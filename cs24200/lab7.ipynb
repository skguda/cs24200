Jupyter NotebookLab7 Last Checkpoint: 10/24/2020 (autosaved)Python 3 [3.6]
Lab 7 - Hypothesis Testing¶
For this Lab, you should use the stats module in the python scipy library.

# Run this cell to load packages
from scipy import stats
import pandas as pd
import numpy as np
The dataset
For this lab, you will be using a dataset extracted from the 1974 Motor Trend US magazine. It comprises fuel consumption and 10 aspects of automobile design and performance for 32 automobiles (1973–74 models). Here's what the data looks like:

pd.read_csv("./cars_information.csv").head()
model	mpg	cyl	disp	hp	drat	wt	qsec	vs	am	gear	carb
0	Mazda RX4	21.0	6	160.0	110	3.90	2.620	16.46	0	1	4	4
1	Mazda RX4 Wag	21.0	6	160.0	110	3.90	2.875	17.02	0	1	4	4
2	Datsun 710	22.8	4	108.0	93	3.85	2.320	18.61	1	1	4	1
3	Hornet 4 Drive	21.4	6	258.0	110	3.08	3.215	19.44	1	0	3	1
4	Hornet Sportabout	18.7	8	360.0	175	3.15	3.440	17.02	0	0	3	2
Important: For all questions in this lab, the functions you will implement receive a dataframe as an argument. It is important to use the given dataframe to answer the questions, as the autograder uses a modified version of the data to the functions.

Q1: One Sample Two-sided t-test
Complete the function one_sample_two_sided_t_test with code to perform a TWO-sided t-test with significance level = 0.10 to check the hypothesis that the mean of the feature mpg is equal to 22.

Your function will receive a dataframe and should return a tuple with:

the mean of the column "mpg"
the p value returned from the t-test, and
a string which can take two values: "accept" or "reject", indicating whether you accept or reject the hypothesis
Reminder: 'accept' really means 'cannot reject'.

def one_sample_two_sided_t_test(data):
    ###
    ### YOUR CODE HERE
    ###  
    mpgmean = 22 
    sig = 0.10 
    mmean = data['mpg'].mean()
    mpstring = ''  
    
    p = stats.ttest_1samp(data['mpg'],22)
    pval = p[1]  
    
    if pval > sig: 
        mpstring += 'accept' 
    else: 
        mpstring += 'reject'
    
    return((mmean, pval, mpstring))
​
print(one_sample_two_sided_t_test(pd.read_csv("./cars_information.csv")))
# -> (20.090625000000003, 0.08287848291334499, 'reject')
(20.090625000000003, 0.08287848291334499, 'reject')
###
### AUTOGRADER TEST - DO NOT REMOVE
###
​
###
### AUTOGRADER TEST - DO NOT REMOVE
###
​
###
### AUTOGRADER TEST - DO NOT REMOVE
###
​
###
### AUTOGRADER TEST - DO NOT REMOVE
###
​
Q2: One Sample One-sided t-test
Complete the function one_sample_one_sided_t_test with code to perform a ONE-sided t-test with significance level = 0.10 to test the hypothesis that the mean of the feature "mpg" is less than 22.

Your function will receive a dataframe and should return a tuple with:

the mean of the column "mpg"
the p value returned from the t-test, and
a string which can take two values: "accept" or "reject", indicating whether you accept or reject the hypothesis
Reminder: 'accept' really means 'cannot reject'.

def one_sample_one_sided_t_test(data):
    ###
    ### YOUR CODE HERE
    ###  
    mpgmean = 22 
    sig = 0.10 
    mmean = data['mpg'].mean()
    mpstring = ''  
    
    p = stats.ttest_1samp(data['mpg'],22)
    pval = p[1]/2  
    
    if pval > sig: 
        mpstring += 'accept' 
    else: 
        mpstring += 'reject'
    
    return((mmean, pval, mpstring))
    #return(p[1]/2)
​
print(one_sample_one_sided_t_test(pd.read_csv("./cars_information.csv")))
# -> (20.090625000000003, 0.04143924145667249, 'reject')
(20.090625000000003, 0.04143924145667249, 'reject')
###
### AUTOGRADER TEST - DO NOT REMOVE
###
​
###
### AUTOGRADER TEST - DO NOT REMOVE
###
​
###
### AUTOGRADER TEST - DO NOT REMOVE
###
​
###
### AUTOGRADER TEST - DO NOT REMOVE
###
​
Q3: Two Sample Unpaired t-test
Complete the function two_sample_unpaired_t_test with code to perform a TWO-sample UNPAIRED t-test with significance level = 0.10, to check the hypothesis that the mean "mpg" is different across 4-cylinder and 6-cylinder cars ("cyl").

Your function will receive a dataframe and should return a tuple with:

the mean of the column "mpg" for 4-cylinder cars
the mean of the column "mpg" for 6-cylinder cars
the p value returned from the t-test, and
a string which can take two values: "accept" or "reject", indicating whether you accept or reject the hypothesis
Reminder: 'accept' really means 'cannot reject'.

def two_sample_unpaired_t_test(data):
    ###
    ### YOUR CODE HERE
    ### 
    sig = 0.10  
    mmean = data['mpg'].mean() 
    cyl1 = data[data['cyl'] == 4] 
    cyl2 = data[data['cyl'] == 6] 
    mean1 = cyl1['mpg'].mean() 
    mean2 = cyl2['mpg'].mean() 
    p = stats.ttest_ind(cyl1['mpg'], cyl2['mpg'])[1] 
    mstring = '' 
    if p > sig: 
        mstring += 'accept' 
    else: 
        mstring += 'reject' 
        
    return((mean1,mean2,p,mstring))     
​
print(two_sample_unpaired_t_test(pd.read_csv("./cars_information.csv")))
# -> (26.66363636363636, 19.74285714285714, 0.001286607908144336, 'reject')
(26.66363636363636, 19.74285714285714, 0.001286607908144336, 'reject')
###
### AUTOGRADER TEST - DO NOT REMOVE
###
​
###
### AUTOGRADER TEST - DO NOT REMOVE
###
​
###
### AUTOGRADER TEST - DO NOT REMOVE
###
​
###
### AUTOGRADER TEST - DO NOT REMOVE
###
​
Q4: Two Sample Paired t-test
Complete the function two_sample_unpaired_t_test with code to perform a TWO-sample PAIRED t-test with significance level = 0.10, to check the hypothesis that the features "disp" and "hp" are different across the population. Compare the results to an unpaired t-test with significance level = 0.10, for the same hypothesis. Note any differences.

Your function will receive a dataframe and should return a tuple with:

the p value returned from the paired t-test,
a string "accept" or "reject", indicating whether you accept or reject based on the paired test,
the p value returned from the unpaired t-test,
a string "accept" or "reject", indicating whether you accept or reject based on the unpaired test
Reminder: 'accept' really means 'cannot reject'.

def two_sample_paired_t_test(data):
    ###
    ### YOUR CODE HERE
    ###    
    sig = 0.10 
    d1 = data['disp']
    d2 = data['hp'] 
    v1 = stats.ttest_ind(d1, d2) 
    val2 = v1[1] 
    val1 = stats.ttest_rel(d1, d2)[1] 
    str1 = '' 
    str2 = '' 
    
    if val1 > sig: 
        str1 += 'accept' 
    else: 
        str1 += 'reject' 
    
    if val2 > sig: 
        str2 += 'accept' 
    else: 
        str2 += 'reject' 
    
    return((val1, str1, val2, str2))
​
    
print(two_sample_paired_t_test(pd.read_csv("./cars_information.csv")))
# (1.9203329702163945e-06, 'reject', 0.0013535059171876477, 'reject')
(1.9203329702163945e-06, 'reject', 0.0013535059171876477, 'reject')
###
### AUTOGRADER TEST - DO NOT REMOVE
###
​
###
### AUTOGRADER TEST - DO NOT REMOVE
###
​
###
### AUTOGRADER TEST - DO NOT REMOVE
###
​
###
### AUTOGRADER TEST - DO NOT REMOVE
###
​
​

