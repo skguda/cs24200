Jupyter NotebookHomework 4 Last Checkpoint: 10/09/2020 (autosaved)R 3.5.1
Homework 4¶
Important

The questions that produce a plot are not automatically graded, you will only see your grade for those questions after the homework is manually graded by the TAs
Any paragraph/descriptive/yes-no answers that you want to be considered for grading must be included as separate markdown cells in the Jupyter notebook (rather than as comments in the code), and these cells should accompany the associated questions: graders cannot be expected to hunt through your submission to find answers to individual questions. Please post any questions you have on piazza.
For this homework, you must use the R language. The plots should be done with the ggplot2 library. You can only use the libraries listed below.
For full credit, all plots should be properly labeled and titled
Unless specified, you will lose up to 25% credit if you use loops of any kind. For full points, you should use R functionality, with code that returns correct answers if run on a test dataframe with the numeric entries changed.
Suggestion

To help validate your code, create smaller versions of the provided datasets where you can calculate quantities by hand, and make sure your code agrees with these numbers
It is a good idea (if possible) to download the notebook and work on it on your own computer.
# Execute this cell. It will warn about objects being masked, that is OK. 
# It just means that some standard functions are redefined in the loaded package.
require(ggplot2)
require(dplyr)
require(reshape2)
​
options(repr.plot.width=6, repr.plot.height=3)  # <- change plot size in Jupyter notebook
Loading required package: ggplot2
Loading required package: dplyr

Attaching package: ‘dplyr’

The following objects are masked from ‘package:stats’:

    filter, lag

The following objects are masked from ‘package:base’:

    intersect, setdiff, setequal, union

Loading required package: reshape2
Q1: Movie dataset (1 + 2 + 4 + 3 + 4 + 4 + 4 + 3 = 25)
In the first two parts you will try to create a figure similar to the one below (but with only 2 boxplots):

Box plot example

Q1a) Reading data about movies from USA made after 1980
Complete the following gunction. Load the dataset 'movies.csv'. Drop all rows with NAs, and keep only those movies with column country equal to USA, and made after 1980 (column title_year). The function must return this dataframe, we will be using it for the rest of Q1.

read.movies <- function(fname) {
    ###
    ### YOUR CODE HERE
    ### 
    myDF <- read.csv(fname)  
    myDF <- na.omit(myDF)
    miDF <- subset(myDF, (country == 'USA') & (myDF$title_year > 1980)) 
    return(miDF)
}
​
movies = read.movies('./movies.csv')
dim(movies) # [2925, 28]
2925 28
###
### AUTOGRADER TEST - DO NOT REMOVE
###
​
Q1b) Preparing data to make box plot of movies from 1990
We want to make a boxplot of the budget and gross revenue of movies made in the year 1990. To help us making such plot, let's first process the data into a format that makes plotting easier.

Complete the following function to: first select only the movies made in the year 1990 (using the title_year column); then, use the melt() function to convert the resulting dataframe into a format more suitable for plotting. Return the resulting dataframe.

The melt() function will take a dataframe that looks like this:

...	title_year	...	budget	gross	...
...	1990	...	6.5e7	119412921	....
...	1990	...	7.0e7	117541000	....
...	...	...	...	...	....
And turn into:

title_year	variable	value
1990	'budget'	6.5e7
1990	'budget'	7.0e7
...	...	...
1990	'gross'	119412921
1990	'gross'	117541000
...	...	...
That is, for each movie (row) in the original dataframe, we turn the value of the seleted columns (budget and gross) into new rows on the output dataframe. You can run help(melt.data.frame) to see the documentation of the function melt() when applied to dataframes.

prepare.movies.data <- function(data) {
    ###
    ### YOUR CODE HERE
    ### 
    data <- subset(data, select= c('title_year', 'budget', 'gross')) 
    newData <- subset(data, data$title_year == 1990) 
    return(melt(newData, id = 'title_year', measure_vars = c('budget', 'gross'))) 
    
}
​
df = prepare.movies.data(read.movies("./movies.csv"))
print(dim(df)) # [50, 3]
head(df[df$variable == "gross", ])
[1] 50  3
A data.frame: 6 × 3
title_year	variable	value
<int>	<fct>	<dbl>
26	1990	gross	119412921
27	1990	gross	117541000
28	1990	gross	119412921
29	1990	gross	82670733
30	1990	gross	66676062
31	1990	gross	41482207
###
### AUTOGRADER TEST - DO NOT REMOVE
###
​
Q1c) Plot data as boxplots
Make a plot showing the boxplots of the budget and gross of all movies made in the year 1990 (column title_year). These should be side-by-side in the same plot. Fill the box plot with the color gold, and set the line size to 2. Make sure the plot has an informative title and axis-labels. You must use the ggplot2 library.

movies = prepare.movies.data(read.movies("./movies.csv"))
​
###
### YOUR CODE HERE
### 
p <- ggplot(movies, aes(x=variable, y=value)) + geom_boxplot(fill = 'gold', size = 2) + labs(title = 'Gross vs Budget', x = 'Variables', y='Total value')
p
​

Q1d) Boxplot with line connecting means
Repeat the previous plot, but this time add a line joining the mean of budget to the mean of gross. The line should be colored red, and of size 2. At each end of the line, you should have a red circles.

HINTS: The ggplot function stat_summary might come in handy.

movies = prepare.movies.data(read.movies("./movies.csv"))
​
###
### YOUR CODE HERE
###   
#test <- subset(movies, select = c('variable', 'value')) 
#new <- aggregate(test[,2], list(test$variable), mean) 
#new
​
p <- ggplot(movies, aes(x=variable, y=value)) + geom_boxplot(fill = 'gold', size = 2) + labs(title = 'Gross vs Budget', x = 'Variables', y='Total value')  
​
#ggplot(new, aes(x = Group.1, y = x)) + geom_point(size = 2, color = 'red') + geom_line(color = 'red', size = 2) 
p + stat_summary(fun=mean, geom = 'line', aes(group=1), color = 'red', size = 2) + stat_summary(fun =  mean, geom = 'point', color = 'red', size = 4)
Warning message:
“Ignoring unknown parameters: fun”Warning message:
“Ignoring unknown parameters: fun”No summary function supplied, defaulting to `mean_se()
No summary function supplied, defaulting to `mean_se()

Q1e) Mean and Median budget
Create a plot with year (column title_year) on the x-axis, and two lines, the mean budget and the median budget of movies from that year. These lines should be colored differently and labeled.

movies = read.movies("./movies.csv")
​
###
### YOUR CODE HERE
### 
​
movies <- subset(movies, select = c('title_year', 'budget')) 
a <- aggregate(movies[, 2], list(movies$title_year), mean)
b <- aggregate(movies[, 2], list(movies$title_year), median)  
total <- merge(a,b,by="Group.1") 
#p <- ggplot(total, aes(Group.1, x.x)) + geom_line()  
​
total <- melt(total, id.vars='Group.1') 
​
ggplot(total, aes(Group.1, value, colour = variable)) + geom_line()
​
​

Q1f) Quantiles of (per-year) budget and gross revenue
In addition to the median, we now also want to calculate and plot various quantiles (recall the median is the 50% quantile). To achieve this, you will first process the data to pre-compute the 25%, 50% and 75% quantiles for the budget and gross columns, which will be used later plots.

Fill the following function with code to generate a summarized dataframe with 5 columns: title_year, variable, q25, q50, q75. The first two columns will track the year and the variable (gross or budget), the following 3 columns have the 25%, 50%, and 75% quantiles of the variable, computed over all movies of that year.

The produced dataframe should look like this:

title_year	variable	q25	q50	q75
1981	'budget'	10000000	17000000	18000000
1981	'gross'	6000000	8500000	19100000
1982	'budget'	10650000	15500000	20250000
1982	'gross'	23850000	42133720	76600000
1983	'budget'	10000000	12000000	25000000
1983	'gross'	25600000	44700000	79568000
...	...	...	...	...
Note that for the row:

title_year	variable	q25	q50	q75
1981	'gross'	6000000	8500000	19100000
the values shown are the 25%, 50% and 75% quantiles of gross of all movies released in 1981.

Similarly, for the row:

title_year	variable	q25	q50	q75
1981	'budget'	10000000	17000000	18000000
the values shown are the 25%, 50% and 75% quantiles of budget of all movies released in 1981.

prepare.quantiles <- function(data) {
    ###
    ### YOUR CODE HERE
    ### 
    movies <- subset(data, select = c('title_year', 'gross', 'budget'))  
    movies <- melt(movies, id.vars='title_year', measure.vars = c('budget', 'gross')) 
    
    medgross <- aggregate(.~title_year + variable, movies, median)  
    tfive <- aggregate(.~title_year + variable, movies, FUN = quantile, probs  = 0.25 )  
    sevfive <- aggregate(.~title_year + variable, movies, FUN = quantile, probs  = 0.75)  
    
    myDF <- merge(tfive, medgross, by = c('title_year', 'variable')) 
    myDF <- merge(myDF, sevfive, by = c('title_year', 'variable')) 
    myDF$q25 <- myDF$value.x 
    myDF$q50 <- myDF$value.y 
    myDF$q75 <- myDF$value 
    final <- subset(myDF, select = c(1,2, 6:8)) 
    return(final)
​
​
    #medbud <- aggregate(movies[, 3], list(movies[,1]), median) 
    #quartgross <- aggregate(movies[, 2], list(movies[,1]), FUN = quantile, probs  = 0.25) 
    #quartbud <- aggregate(movies[, 3], list(movies[,1]), FUN = quantile, probs  = 0.25)  
    #sevgross <- aggregate(movies[, 2], list(movies[,1]), FUN = quantile, probs  = 0.75) 
    #sevbud <- aggregate(movies[, 3], list(movies[,1]), FUN = quantile, probs  = 0.75)  
    
​
    #gross_total <- merge(quartgross, medgross, by = 'Group.1')  
    #gross_total['variable'] <- 'gross' 
    #gross_total <- merge(gross_total, sevgross, by = 'Group.1') 
    #budget_total <- merge(quartbud, medbud, by = 'Group.1')  
    #budget_total['variable'] <- 'budget' 
    #budget_total <- merge(budget_total, sevbud, by = 'Group.1')  
    #finDF <- rbind(as.matrix(budget_total), as.matrix(gross_total))   
    #myDF <- finDF[order(finDF[,1]), ]  
    
    #myDF1 <- subset(myDF, select = c(1,4))  
    #myDF1 <- myDF1[order(myDF1[,1]), ] 
    #myDF2 <- subset(myDF, select = c(1,2,3,5))  
    #myDF2 <- myDF2[order(myDF2[,1]), ] 
​
    #myDF3 <- merge(myDF1, myDF2) 
    
    #rename(myDF3, c())#, 'variable', 'q25', 'q50', 'q75'))  
    #myDF3 
    
   
}
​
head(prepare.quantiles(read.movies("./movies.csv")))
A data.frame: 6 × 5
title_year	variable	q25	q50	q75
<int>	<fct>	<dbl>	<dbl>	<dbl>
1981	budget	10000000	17000000	18000000
1981	gross	6000000	8500000	19100000
1982	budget	10650000	15500000	20250000
1982	gross	23850000	42133720	76600000
1983	budget	10000000	12000000	25000000
1983	gross	25600000	44700000	79568000
###
### AUTOGRADER TEST - DO NOT REMOVE
###
​
Q1g) Ribbon plot for budget quantiles
Using the dataframe processed with the previous function, you will create a plot with two layers. One is a geom_line showing year vs the median budget, and the other is geom_ribbon showing the 25%-75% band of budgets for each year. For the ribbon plot, set the fill color as skyblue3, with opacity of 0.5. For the line, set the line width to 1.5 and color to black. The plot will resemble one of the facets here. Don't forget to add meaningful labels for the axes.

movies = prepare.quantiles(read.movies("./movies.csv"))
​
###
### YOUR CODE HERE
###
movies <- movies[(movies$variable == 'budget'),] 
ggplot(movies, aes(title_year, q50)) + geom_ribbon(aes(ymin = q25, ymax = q75), fill = "skyblue3", alpha = 0.5) + 
geom_line(size = 1.5, color = 'black') + labs(title = 'budget vs years', x ='years', y='budget')

Q1h) Facets
Now create a plot with two facets in 1 row. One shows the same plot as before (for column budget), and the other show the median and 25%-75% band for column gross.

movies = prepare.quantiles(read.movies("./movies.csv"))
​
###
### YOUR CODE HERE
###
​
​
ggplot(movies, aes(title_year, q50)) + geom_ribbon(aes(ymin = q25, ymax = q75), fill = "skyblue3", alpha = 0.5) + 
geom_line(size = 1.5, color = 'black') + labs(title = 'budget vs years', x ='years', y='budget') +
facet_grid(.~variable)

Q2: Custom geom_smooth methods and kNN (2 + 3 + 4 + 4 + 6 + 2 + 2 + 2)
The cell below reads the stop-and-frisk dataset , applying the same transformation that the first question from HW3 asked from you (i.e. collapse different crime type). Run the cell below.

The dataset frisk.csv includes recordings of NYPD stops for a fifteen-month period in 1998 - 1999. The specific variables contained in this data are:

precint: NYC precint indicator, with values 1, 2, . . . , 75.
eth: Ethnicity indicator, with 1 denoting Black, 2 denoting Hispanic, and 3 denoting White.
popl: The total population of a particular ethnicity in a given precint.
crime: Crime category indicator, with 1 denoting violent crimes, 2 denoting weapons crimes, 3 denoting property crimes, and 4 denoting drug crimes.
stops: Number of police stops for a specific crime category among individuals of a particular ethnicity in a given precint.
past: The total number of past arrests for a specific crime category among individuals of a particular ethnicity in a given precint.
The cell below loads this dataset and, for each combination of precint and eth, aggregates the variables popl, stops, past over all types of crime. The population is averaged, while the other two variables are summed. Run the cell, we will use this data in following items.

# Execute this cell
​
full_data = read.csv("./frisk.csv")
grouped = group_by(full_data, precinct, eth)
frisk = summarise(
    grouped,
    popl=mean(popl),
    stops=sum(stops),
    past=sum(past),
)
​
head(frisk)
A grouped_df: 6 × 5
precinct	eth	popl	stops	past
<int>	<int>	<dbl>	<int>	<int>
1	1	1720	202	980
1	2	1368	102	295
1	3	23854	81	381
2	1	2596	132	753
2	2	6844	144	557
2	3	9379	71	431
Q2a) Using geom_smooth with lm
Create a plot with two layers. The first is a scatterplot of popl (on the x-axis) vs stops (on the y-axis). The second is a geom_smooth layer, showing a straight line fitted to this data. This will fit a linear regression model to the data and then display the y value (stops) predicted by this linear model, as a line with error bands.

Make sure your plot is titled/labeled.

NOTE: this line is fit using one of the default methods of geom_smooth. You can run help(geom_smooth) to see what arguments can be passed.

###
### YOUR CODE HERE
### 
ggplot(frisk, aes(popl, stops)) + geom_point() + geom_smooth(method = lm) + ggtitle('Title')
​
​

Q2b) Factoring data by ethnicity
Now repeat part a), but fitting a different line for each ethnicity. Color the lines and the points according to ethnicity. Make sure your plot is titled/labeled.

###
### YOUR CODE HERE
###  
ggplot(frisk, aes(x = popl, y=stops, color = eth)) + geom_point() + geom_smooth(aes(group = eth, color = eth), method = lm) + ggtitle('Title')
​
​
​

Using custom functions with geom_smooth
The geom_smooth function works by fitting some predictive method (e.g. linear regression) to the data, and then using the resulting model to predict smoother values. We can select which method we want by changing the 'method argument passed to geom_smooth.

In some cases, we might want to use other custom smoothing methods, distinct from the options readily available in geom_smooth. Luckily, it is possible to use any custom smoothing function with geom_smooth, however, to do so we need to do a little extra work.

The issue here is that we cannot simply pass any function to the method argument. Behind the scenes, geom_smooth uses the function we specify in method to fit the predictive method to our data and then it call predict() on the resulting model. If we want to use a custom smoothing strategy, we need to make sure that it works with the predict() function.

The following cell takes care of this problem. We provide you with a glue code that makes it easier for you to use any custom smoothing function with geom_smooth. You don't need to do anything there, other than executing the code.

In the following questions you will implement your own smoothing functions.

# You must run this cell!!
​
# We will create our own smoothing method. ggplot expects this function
# to receive the arguments `formula`, `data`, and `weights`. We won't be
# using `formula` or `weights`, but must keep it in the function signature.
# We also add our own argument: `pred_fn`, which is the function to be
# used to predict the smoothed values. 
# Any extra arguments are passed to `pred_fn`
custom_smooth <- function(formula, data, weights, pred_fn, ...) {
    # We ignore the `formula` and `weights` argument.
    
    # `data` is a dataframe with values of x and y from the data.
    # We call the pred_fn with that data, and we pass the x values, 
    # since we want to make predictions for those
    ypred = pred_fn(data, data$x, ...)
    
    # We build the results with the original x values and the predicted
    # y values. We must assing this result object a new "class" type,
    # which will allow ggplot to call the appropriate functions when
    # making our plot
    result = list(x=data$x, y=ypred)
    class(result) = "custom_smooth"
    
    return(result)
}
​
# ggplot calls the predictdf function on the result of the smoothing method
# Since we have our our custom method, we must define this function, which
# just tells ggplot that the result of the prediction is a dataframe with 
# the `x` and `y` values computed by the custom_smooth method
predictdf.custom_smooth <- function(model, xseq, se, level) {
    data.frame(x = model$x, y = model$y)
}
How to use the custom_smooth method
With the glue code above, you can now define your own smoothing functions! The smoothing function receives two arguments:

data: dataframe with x and y columns (the original data)
xseq: the x value for which we will compute the smoothed y prediction
Once you have a custom smoothing function, you can use as such:

my_custom_function <- function(data, xseq) { ... }  # <- your custom function

ggplot(...) + ... + 
    geom_smooth(method=custom_smooth, method.args=list(pred_fn=my_custom_function))
    #           ^^ tell it to use our custom smoothing      ^^ specify which prediction function to use
The code for custom_smooth was already given in the previous cell. The part that you need to implement is the prediction function.

If your smoothing function (my_custom_function in the above example) takes extra arguments, you can pass them in in method.args:

geom_smooth(
    method=custom_smooth, 
    method.args=list(pred_fn=my_custom_function, arg1=val1, arg2=val2)
)
Q2c) Smoothing with linear model passing through the origin
We will start with an easier example: a linear model that passes through the origin.

Although this could be implemented in other (easier) ways, we will use this as an example of how to employ custom smoothing methods in geom_smooth.

Complete the following function. It should fit a linear model using data, but this linear model must pass through the origin. You should use lm() to fit the linear model and predict() to make predictions.

Your linear model has to pass through the origin (i.e. no intercept term). You can achieve that my modifying the formula argument of the lm method. You can find more information about it by running help(lm).

The function must return the values that this model predicts to the xseq values.

ols_orig = function(data, xseq) {
    # * data - dataframe that has the x and y values to fit the model
    # * xseq - vector that has x values to be predicted
    #
    # You must fit a linear model (passing through the origin) to 
    # the x, y values in data and then use this model to make 
    # predictions for xseq.
    
    ###
    ### YOUR CODE HERE
    ###  
    mod = lm(y ~ 0 + x, data) 
    newd= data.frame(x = xseq) 
    ypredict = predict(mod, newd) 
    return(ypredict)
    #return(lm(as.formula("y ~ 0 + x"), data, predict(lm(y ~ 0 + x), xseq, se.fit = TRUE))) #predict(xseq)) 
   
}
​
# Check how this is used with geom_smooth below: You should see a plot 
# with the data and a line going through the origin
​
# We must pass our `custom_smooth` as the method and we pass the function
# we just build above as the argument for the method, via `method.args`:
ggplot(frisk, aes(x=popl, y=stops)) + 
    geom_point() + 
    geom_smooth(
        method=custom_smooth, 
        method.args=list(pred_fn=ols_orig)
    ) +
    labs(x="Population", y="Stops")

###
### AUTOGRADER TEST - DO NOT REMOVE
###
​
Q2d) Custom smoothing, factored by ethnicity
Repeat part b), now using the previous function in geom_smooth. Your 3 lines should all pass through the origin. You won't have errorbands, but that is ok.

ols_orig = function(data, xseq) {
    # * data - dataframe that has the x and y values to fit the model
    # * xseq - vector that has x values to be predicted
    #
    # You must fit a linear model (passing through the origin) to 
    # the x, y values in data and then use this model to make 
    # predictions for xseq.
    
    ###
    ### YOUR CODE HERE
    ###  
    mod = lm(y ~ 0 + x, data) 
    newd= data.frame(x = xseq) 
    ypredict = predict(mod, newd) 
    return(ypredict)
    #return(lm(as.formula("y ~ 0 + x"), data, predict(lm(y ~ 0 + x), xseq, se.fit = TRUE))) #predict(xseq)) 
   
}
​
# Check how this is used with geom_smooth below: You should see a plot 
# with the data and a line going through the origin
​
# We must pass our `custom_smooth` as the method and we pass the function
# we just build above as the argument for the method, via `method.args`:
ggplot(frisk, aes(x=popl, y=stops)) +   
geom_point() + geom_smooth(method=custom_smooth, method.args=list(pred_fn=ols_orig), aes(group = eth, color = factor(eth))) +
    labs(title = 'population vs stops', x="Population", y="Stops")
​

Q2e) K-Nearest Neighbors
We will now run geom_smooth with k-Nearest Neighbors (k-NN).

The k-NN algorithm works as follows:

For each given test point xx, it first looks for the kk closest examples in the data.
Then, it predicts the average yy of those points
Complete the function below to make predictions using a k-NN algorithm. For each element of xseq, calculate the kk nearest xx's in data and average their corresponding yy's.

You can use for loops to complete this code, without any penalty. (But there are ways of doing this without a for loop)

Hint: you might find the functions order useful, it is similar to argsort in python.

Hint: you might want to debug your function on a small toy dataset.

knn1 <- function(data, xseq, k) {
    data$diff <- abs(xseq - data$x) 
    newdata <- data[order(data$diff),] 
    newdata <- newdata[1:k,] 
    sum(newdata$y)/k
} 
​
x <- c(-0.21, -0.01, -0.86, -0.88, -0.77, 0.32, -1.08, -0.60, 1.52, 1.58) 
y <- c(0.66, 0.56, 1.91, 2.50, 2.34, 0.70, 3.15, 1.82, 3.05, 3.94) 
data <- data.frame(x,y) 
xseq <- 0.26
k = 3 
knn1(data, xseq, k)
0.64
knn <- function(data, xseq, k) {    
    ###
    ### YOUR CODE HERE
    ###  
    count <- list()
    for (num in xseq) {
        data$diff <- abs(num - data[,1]) 
        newdata <- data[order(data$diff),] 
        newdata <- newdata[1:k,] 
        count[[toString(num)]] <- sum(newdata$y)/k   
    }   
    return(unlist(count))
    
    
 
}  
x <- c(-0.21, -0.01, -0.86, -0.88, -0.77, 0.32, -1.08, -0.60, 1.52, 1.58) 
y <- c(0.66, 0.56, 1.91, 2.50, 2.34, 0.70, 3.15, 1.82, 3.05, 3.94) 
data <- data.frame(x,y) 
xseq <- c(0.26)
k = 5
knn(data, xseq, k)
​
      
0.26: 0.64
###
### AUTOGRADER TEST - DO NOT REMOVE
###
​
###
### AUTOGRADER TEST - DO NOT REMOVE
###
​
Q2f) geom_smooth with k-NN (k=5)
Repeat (b) but this time using the above k-NN smoothing, with k=5.

That is, you should create a plot with two layers. First layer is a scatterplot with population in the x axis and stops in the y axis. Second layer is a geom_smooth layer using the k-NN method.

Your plot should be factored by the ethnicity, with each ethnicity having a different color. There must be one separate line for each ethnicity.

###
### YOUR CODE HERE
###
​
#ggplot(frisk, aes(x = popl, y=stops, color = eth)) + geom_point() + geom_smooth(aes(group = eth, color = eth), method = knn(frisk, frisk$eth, k = 5)) + ggtitle('Title')
p = ggplot(frisk, aes(popl, stops)) 
P = p + geom_point(aes(color = factor(eth))) 
p = p + geom_smooth(method = custom_smooth, method.args = list(pred_fn = knn,  k = 5), mapping = aes(group = factor(eth), color = factor(eth))) 
p = p + labs(title = 'police stops per ethnicities at knn = 5', x = 'population', y = 'stops') 
p
Warning message in Ops.factor(num, data[, 1]):
“‘-’ not meaningful for factors”Warning message in Ops.factor(num, data[, 1]):
“‘-’ not meaningful for factors”Warning message in Ops.factor(num, data[, 1]):
“‘-’ not meaningful for factors”Warning message in Ops.factor(num, data[, 1]):
“‘-’ not meaningful for factors”Warning message in Ops.factor(num, data[, 1]):
“‘-’ not meaningful for factors”Warning message in Ops.factor(num, data[, 1]):
“‘-’ not meaningful for factors”Warning message in Ops.factor(num, data[, 1]):
“‘-’ not meaningful for factors”Warning message in Ops.factor(num, data[, 1]):
“‘-’ not meaningful for factors”Warning message in Ops.factor(num, data[, 1]):
“‘-’ not meaningful for factors”Warning message in Ops.factor(num, data[, 1]):
“‘-’ not meaningful for factors”Warning message in Ops.factor(num, data[, 1]):
“‘-’ not meaningful for factors”Warning message in Ops.factor(num, data[, 1]):
“‘-’ not meaningful for factors”Warning message in Ops.factor(num, data[, 1]):
“‘-’ not meaningful for factors”Warning message in Ops.factor(num, data[, 1]):
“‘-’ not meaningful for factors”Warning message in Ops.factor(num, data[, 1]):
“‘-’ not meaningful for factors”Warning message in Ops.factor(num, data[, 1]):
“‘-’ not meaningful for factors”Warning message in Ops.factor(num, data[, 1]):
“‘-’ not meaningful for factors”Warning message in Ops.factor(num, data[, 1]):
“‘-’ not meaningful for factors”Warning message in Ops.factor(num, data[, 1]):
“‘-’ not meaningful for factors”Warning message in Ops.factor(num, data[, 1]):
“‘-’ not meaningful for factors”Warning message in Ops.factor(num, data[, 1]):
“‘-’ not meaningful for factors”Warning message in Ops.factor(num, data[, 1]):
“‘-’ not meaningful for factors”Warning message in Ops.factor(num, data[, 1]):
“‘-’ not meaningful for factors”Warning message in Ops.factor(num, data[, 1]):
“‘-’ not meaningful for factors”Warning message in Ops.factor(num, data[, 1]):
“‘-’ not meaningful for factors”Warning message in Ops.factor(num, data[, 1]):
“‘-’ not meaningful for factors”Warning message in Ops.factor(num, data[, 1]):
“‘-’ not meaningful for factors”Warning message in Ops.factor(num, data[, 1]):
“‘-’ not meaningful for factors”Warning message in Ops.factor(num, data[, 1]):
“‘-’ not meaningful for factors”Warning message in Ops.factor(num, data[, 1]):
“‘-’ not meaningful for factors”Warning message in Ops.factor(num, data[, 1]):
“‘-’ not meaningful for factors”Warning message in Ops.factor(num, data[, 1]):
“‘-’ not meaningful for factors”Warning message in Ops.factor(num, data[, 1]):
“‘-’ not meaningful for factors”Warning message in Ops.factor(num, data[, 1]):
“‘-’ not meaningful for factors”Warning message in Ops.factor(num, data[, 1]):
“‘-’ not meaningful for factors”Warning message in Ops.factor(num, data[, 1]):
“‘-’ not meaningful for factors”Warning message in Ops.factor(num, data[, 1]):
“‘-’ not meaningful for factors”Warning message in Ops.factor(num, data[, 1]):
“‘-’ not meaningful for factors”Warning message in Ops.factor(num, data[, 1]):
“‘-’ not meaningful for factors”Warning message in Ops.factor(num, data[, 1]):
“‘-’ not meaningful for factors”Warning message in Ops.factor(num, data[, 1]):
“‘-’ not meaningful for factors”Warning message in Ops.factor(num, data[, 1]):
“‘-’ not meaningful for factors”Warning message in Ops.factor(num, data[, 1]):
“‘-’ not meaningful for factors”Warning message in Ops.factor(num, data[, 1]):
“‘-’ not meaningful for factors”Warning message in Ops.factor(num, data[, 1]):
“‘-’ not meaningful for factors”Warning message in Ops.factor(num, data[, 1]):
“‘-’ not meaningful for factors”Warning message in Ops.factor(num, data[, 1]):
“‘-’ not meaningful for factors”Warning message in Ops.factor(num, data[, 1]):
“‘-’ not meaningful for factors”Warning message in Ops.factor(num, data[, 1]):
“‘-’ not meaningful for factors”Warning message in Ops.factor(num, data[, 1]):
“‘-’ not meaningful for factors”Warning message in Ops.factor(num, data[, 1]):
“‘-’ not meaningful for factors”Warning message in Ops.factor(num, data[, 1]):
“‘-’ not meaningful for factors”Warning message in Ops.factor(num, data[, 1]):
“‘-’ not meaningful for factors”Warning message in Ops.factor(num, data[, 1]):
“‘-’ not meaningful for factors”Warning message in Ops.factor(num, data[, 1]):
“‘-’ not meaningful for factors”Warning message in Ops.factor(num, data[, 1]):
“‘-’ not meaningful for factors”Warning message in Ops.factor(num, data[, 1]):
“‘-’ not meaningful for factors”Warning message in Ops.factor(num, data[, 1]):
“‘-’ not meaningful for factors”Warning message in Ops.factor(num, data[, 1]):
“‘-’ not meaningful for factors”Warning message in Ops.factor(num, data[, 1]):
“‘-’ not meaningful for factors”Warning message in Ops.factor(num, data[, 1]):
“‘-’ not meaningful for factors”Warning message in Ops.factor(num, data[, 1]):
“‘-’ not meaningful for factors”Warning message in Ops.factor(num, data[, 1]):
“‘-’ not meaningful for factors”Warning message in Ops.factor(num, data[, 1]):
“‘-’ not meaningful for factors”Warning message in Ops.factor(num, data[, 1]):
“‘-’ not meaningful for factors”Warning message in Ops.factor(num, data[, 1]):
“‘-’ not meaningful for factors”Warning message in Ops.factor(num, data[, 1]):
“‘-’ not meaningful for factors”Warning message in Ops.factor(num, data[, 1]):
“‘-’ not meaningful for factors”Warning message in Ops.factor(num, data[, 1]):
“‘-’ not meaningful for factors”Warning message in Ops.factor(num, data[, 1]):
“‘-’ not meaningful for factors”Warning message in Ops.factor(num, data[, 1]):
“‘-’ not meaningful for factors”Warning message in Ops.factor(num, data[, 1]):
“‘-’ not meaningful for factors”Warning message in Ops.factor(num, data[, 1]):
“‘-’ not meaningful for factors”Warning message in Ops.factor(num, data[, 1]):
“‘-’ not meaningful for factors”Warning message in Ops.factor(num, data[, 1]):
“‘-’ not meaningful for factors”Warning message in Ops.factor(num, data[, 1]):
“‘-’ not meaningful for factors”Warning message in Ops.factor(num, data[, 1]):
“‘-’ not meaningful for factors”Warning message in Ops.factor(num, data[, 1]):
“‘-’ not meaningful for factors”Warning message in Ops.factor(num, data[, 1]):
“‘-’ not meaningful for factors”Warning message in Ops.factor(num, data[, 1]):
“‘-’ not meaningful for factors”Warning message in Ops.factor(num, data[, 1]):
“‘-’ not meaningful for factors”Warning message in Ops.factor(num, data[, 1]):
“‘-’ not meaningful for factors”Warning message in Ops.factor(num, data[, 1]):
“‘-’ not meaningful for factors”Warning message in Ops.factor(num, data[, 1]):
“‘-’ not meaningful for factors”Warning message in Ops.factor(num, data[, 1]):
“‘-’ not meaningful for factors”Warning message in Ops.factor(num, data[, 1]):
“‘-’ not meaningful for factors”Warning message in Ops.factor(num, data[, 1]):
“‘-’ not meaningful for factors”Warning message in Ops.factor(num, data[, 1]):
“‘-’ not meaningful for factors”Warning message in Ops.factor(num, data[, 1]):
“‘-’ not meaningful for factors”Warning message in Ops.factor(num, data[, 1]):
“‘-’ not meaningful for factors”Warning message in Ops.factor(num, data[, 1]):
“‘-’ not meaningful for factors”Warning message in Ops.factor(num, data[, 1]):
“‘-’ not meaningful for factors”Warning message in Ops.factor(num, data[, 1]):
“‘-’ not meaningful for factors”Warning message in Ops.factor(num, data[, 1]):
“‘-’ not meaningful for factors”Warning message in Ops.factor(num, data[, 1]):
“‘-’ not meaningful for factors”Warning message in Ops.factor(num, data[, 1]):
“‘-’ not meaningful for factors”Warning message in Ops.factor(num, data[, 1]):
“‘-’ not meaningful for factors”Warning message in Ops.factor(num, data[, 1]):
“‘-’ not meaningful for factors”Warning message in Ops.factor(num, data[, 1]):
“‘-’ not meaningful for factors”Warning message in Ops.factor(num, data[, 1]):
“‘-’ not meaningful for factors”Warning message in Ops.factor(num, data[, 1]):
“‘-’ not meaningful for factors”Warning message in Ops.factor(num, data[, 1]):
“‘-’ not meaningful for factors”Warning message in Ops.factor(num, data[, 1]):
“‘-’ not meaningful for factors”Warning message in Ops.factor(num, data[, 1]):
“‘-’ not meaningful for factors”Warning message in Ops.factor(num, data[, 1]):
“‘-’ not meaningful for factors”Warning message in Ops.factor(num, data[, 1]):
“‘-’ not meaningful for factors”Warning message in Ops.factor(num, data[, 1]):
“‘-’ not meaningful for factors”Warning message in Ops.factor(num, data[, 1]):
“‘-’ not meaningful for factors”Warning message in Ops.factor(num, data[, 1]):
“‘-’ not meaningful for factors”Warning message in Ops.factor(num, data[, 1]):
“‘-’ not meaningful for factors”Warning message in Ops.factor(num, data[, 1]):
“‘-’ not meaningful for factors”Warning message in Ops.factor(num, data[, 1]):
“‘-’ not meaningful for factors”Warning message in Ops.factor(num, data[, 1]):
“‘-’ not meaningful for factors”Warning message in Ops.factor(num, data[, 1]):
“‘-’ not meaningful for factors”Warning message in Ops.factor(num, data[, 1]):
“‘-’ not meaningful for factors”Warning message in Ops.factor(num, data[, 1]):
“‘-’ not meaningful for factors”Warning message in Ops.factor(num, data[, 1]):
“‘-’ not meaningful for factors”Warning message in Ops.factor(num, data[, 1]):
“‘-’ not meaningful for factors”Warning message in Ops.factor(num, data[, 1]):
“‘-’ not meaningful for factors”Warning message in Ops.factor(num, data[, 1]):
“‘-’ not meaningful for factors”Warning message in Ops.factor(num, data[, 1]):
“‘-’ not meaningful for factors”Warning message in Ops.factor(num, data[, 1]):
“‘-’ not meaningful for factors”Warning message in Ops.factor(num, data[, 1]):
“‘-’ not meaningful for factors”Warning message in Ops.factor(num, data[, 1]):
“‘-’ not meaningful for factors”Warning message in Ops.factor(num, data[, 1]):
“‘-’ not meaningful for factors”Warning message in Ops.factor(num, data[, 1]):
“‘-’ not meaningful for factors”Warning message in Ops.factor(num, data[, 1]):
“‘-’ not meaningful for factors”Warning message in Ops.factor(num, data[, 1]):
“‘-’ not meaningful for factors”Warning message in Ops.factor(num, data[, 1]):
“‘-’ not meaningful for factors”Warning message in Ops.factor(num, data[, 1]):
“‘-’ not meaningful for factors”Warning message in Ops.factor(num, data[, 1]):
“‘-’ not meaningful for factors”Warning message in Ops.factor(num, data[, 1]):
“‘-’ not meaningful for factors”Warning message in Ops.factor(num, data[, 1]):
“‘-’ not meaningful for factors”Warning message in Ops.factor(num, data[, 1]):
“‘-’ not meaningful for factors”Warning message in Ops.factor(num, data[, 1]):
“‘-’ not meaningful for factors”Warning message in Ops.factor(num, data[, 1]):
“‘-’ not meaningful for factors”Warning message in Ops.factor(num, data[, 1]):
“‘-’ not meaningful for factors”Warning message in Ops.factor(num, data[, 1]):
“‘-’ not meaningful for factors”Warning message in Ops.factor(num, data[, 1]):
“‘-’ not meaningful for factors”Warning message in Ops.factor(num, data[, 1]):
“‘-’ not meaningful for factors”Warning message in Ops.factor(num, data[, 1]):
“‘-’ not meaningful for factors”Warning message in Ops.factor(num, data[, 1]):
“‘-’ not meaningful for factors”Warning message in Ops.factor(num, data[, 1]):
“‘-’ not meaningful for factors”Warning message in Ops.factor(num, data[, 1]):
“‘-’ not meaningful for factors”Warning message in Ops.factor(num, data[, 1]):
“‘-’ not meaningful for factors”Warning message in Ops.factor(num, data[, 1]):
“‘-’ not meaningful for factors”Warning message in Ops.factor(num, data[, 1]):
“‘-’ not meaningful for factors”Warning message in Ops.factor(num, data[, 1]):
“‘-’ not meaningful for factors”Warning message in Ops.factor(num, data[, 1]):
“‘-’ not meaningful for factors”Warning message in Ops.factor(num, data[, 1]):
“‘-’ not meaningful for factors”Warning message in Ops.factor(num, data[, 1]):
“‘-’ not meaningful for factors”Warning message in Ops.factor(num, data[, 1]):
“‘-’ not meaningful for factors”Warning message in Ops.factor(num, data[, 1]):
“‘-’ not meaningful for factors”Warning message in Ops.factor(num, data[, 1]):
“‘-’ not meaningful for factors”Warning message in Ops.factor(num, data[, 1]):
“‘-’ not meaningful for factors”Warning message in Ops.factor(num, data[, 1]):
“‘-’ not meaningful for factors”Warning message in Ops.factor(num, data[, 1]):
“‘-’ not meaningful for factors”Warning message in Ops.factor(num, data[, 1]):
“‘-’ not meaningful for factors”Warning message in Ops.factor(num, data[, 1]):
“‘-’ not meaningful for factors”Warning message in Ops.factor(num, data[, 1]):
“‘-’ not meaningful for factors”Warning message in Ops.factor(num, data[, 1]):
“‘-’ not meaningful for factors”Warning message in Ops.factor(num, data[, 1]):
“‘-’ not meaningful for factors”Warning message in Ops.factor(num, data[, 1]):
“‘-’ not meaningful for factors”Warning message in Ops.factor(num, data[, 1]):
“‘-’ not meaningful for factors”Warning message in Ops.factor(num, data[, 1]):
“‘-’ not meaningful for factors”Warning message in Ops.factor(num, data[, 1]):
“‘-’ not meaningful for factors”Warning message in Ops.factor(num, data[, 1]):
“‘-’ not meaningful for factors”Warning message in Ops.factor(num, data[, 1]):
“‘-’ not meaningful for factors”Warning message in Ops.factor(num, data[, 1]):
“‘-’ not meaningful for factors”Warning message in Ops.factor(num, data[, 1]):
“‘-’ not meaningful for factors”Warning message in Ops.factor(num, data[, 1]):
“‘-’ not meaningful for factors”Warning message in Ops.factor(num, data[, 1]):
“‘-’ not meaningful for factors”Warning message in Ops.factor(num, data[, 1]):
“‘-’ not meaningful for factors”Warning message in Ops.factor(num, data[, 1]):
“‘-’ not meaningful for factors”Warning message in Ops.factor(num, data[, 1]):
“‘-’ not meaningful for factors”Warning message in Ops.factor(num, data[, 1]):
“‘-’ not meaningful for factors”Warning message in Ops.factor(num, data[, 1]):
“‘-’ not meaningful for factors”Warning message in Ops.factor(num, data[, 1]):
“‘-’ not meaningful for factors”Warning message in Ops.factor(num, data[, 1]):
“‘-’ not meaningful for factors”Warning message in Ops.factor(num, data[, 1]):
“‘-’ not meaningful for factors”Warning message in Ops.factor(num, data[, 1]):
“‘-’ not meaningful for factors”Warning message in Ops.factor(num, data[, 1]):
“‘-’ not meaningful for factors”Warning message in Ops.factor(num, data[, 1]):
“‘-’ not meaningful for factors”Warning message in Ops.factor(num, data[, 1]):
“‘-’ not meaningful for factors”Warning message in Ops.factor(num, data[, 1]):
“‘-’ not meaningful for factors”Warning message in Ops.factor(num, data[, 1]):
“‘-’ not meaningful for factors”Warning message in Ops.factor(num, data[, 1]):
“‘-’ not meaningful for factors”Warning message in Ops.factor(num, data[, 1]):
“‘-’ not meaningful for factors”Warning message in Ops.factor(num, data[, 1]):
“‘-’ not meaningful for factors”Warning message in Ops.factor(num, data[, 1]):
“‘-’ not meaningful for factors”Warning message in Ops.factor(num, data[, 1]):
“‘-’ not meaningful for factors”Warning message in Ops.factor(num, data[, 1]):
“‘-’ not meaningful for factors”Warning message in Ops.factor(num, data[, 1]):
“‘-’ not meaningful for factors”Warning message in Ops.factor(num, data[, 1]):
“‘-’ not meaningful for factors”Warning message in Ops.factor(num, data[, 1]):
“‘-’ not meaningful for factors”Warning message in Ops.factor(num, data[, 1]):
“‘-’ not meaningful for factors”Warning message in Ops.factor(num, data[, 1]):
“‘-’ not meaningful for factors”Warning message in Ops.factor(num, data[, 1]):
“‘-’ not meaningful for factors”Warning message in Ops.factor(num, data[, 1]):
“‘-’ not meaningful for factors”Warning message in Ops.factor(num, data[, 1]):
“‘-’ not meaningful for factors”Warning message in Ops.factor(num, data[, 1]):
“‘-’ not meaningful for factors”Warning message in Ops.factor(num, data[, 1]):
“‘-’ not meaningful for factors”Warning message in Ops.factor(num, data[, 1]):
“‘-’ not meaningful for factors”Warning message in Ops.factor(num, data[, 1]):
“‘-’ not meaningful for factors”Warning message in Ops.factor(num, data[, 1]):
“‘-’ not meaningful for factors”Warning message in Ops.factor(num, data[, 1]):
“‘-’ not meaningful for factors”Warning message in Ops.factor(num, data[, 1]):
“‘-’ not meaningful for factors”Warning message in Ops.factor(num, data[, 1]):
“‘-’ not meaningful for factors”Warning message in Ops.factor(num, data[, 1]):
“‘-’ not meaningful for factors”Warning message in Ops.factor(num, data[, 1]):
“‘-’ not meaningful for factors”Warning message in Ops.factor(num, data[, 1]):
“‘-’ not meaningful for factors”Warning message in Ops.factor(num, data[, 1]):
“‘-’ not meaningful for factors”Warning message in Ops.factor(num, data[, 1]):
“‘-’ not meaningful for factors”Warning message in Ops.factor(num, data[, 1]):
“‘-’ not meaningful for factors”Warning message in Ops.factor(num, data[, 1]):
“‘-’ not meaningful for factors”Warning message in Ops.factor(num, data[, 1]):
“‘-’ not meaningful for factors”Warning message in Ops.factor(num, data[, 1]):
“‘-’ not meaningful for factors”Warning message in Ops.factor(num, data[, 1]):
“‘-’ not meaningful for factors”Warning message in Ops.factor(num, data[, 1]):
“‘-’ not meaningful for factors”Warning message in Ops.factor(num, data[, 1]):
“‘-’ not meaningful for factors”Warning message in Ops.factor(num, data[, 1]):
“‘-’ not meaningful for factors”Warning message in Ops.factor(num, data[, 1]):
“‘-’ not meaningful for factors”Warning message in Ops.factor(num, data[, 1]):
“‘-’ not meaningful for factors”Warning message in Ops.factor(num, data[, 1]):
“‘-’ not meaningful for factors”Warning message in Ops.factor(num, data[, 1]):
“‘-’ not meaningful for factors”

Q2g) kNN with k=1
Repeat the above but this time using k=1.

Note: the lines for each group (ethnicity) should pass through all their points.

###
### YOUR CODE HERE
###
#ggplot(frisk, aes(x = popl, y=stops, color = eth)) + geom_point() + geom_smooth(aes(group = eth, color = eth), method = knn(frisk, frisk$eth, k = 1)) + ggtitle('Title')
p = ggplot(frisk, aes(popl, stops)) 
P = p + geom_point(aes(color = factor(eth))) 
p = p + geom_smooth(method = custom_smooth, method.args = list(pred_fn = knn, k = 1), mapping = aes(group = factor(eth), color = factor(eth))) 
p = p + labs(title = 'police stops per ethnicities at knn = 5', x = 'population', y = 'stops') 
p
Warning message in Ops.factor(num, data[, 1]):
“‘-’ not meaningful for factors”Warning message in Ops.factor(num, data[, 1]):
“‘-’ not meaningful for factors”Warning message in Ops.factor(num, data[, 1]):
“‘-’ not meaningful for factors”Warning message in Ops.factor(num, data[, 1]):
“‘-’ not meaningful for factors”Warning message in Ops.factor(num, data[, 1]):
“‘-’ not meaningful for factors”Warning message in Ops.factor(num, data[, 1]):
“‘-’ not meaningful for factors”Warning message in Ops.factor(num, data[, 1]):
“‘-’ not meaningful for factors”Warning message in Ops.factor(num, data[, 1]):
“‘-’ not meaningful for factors”Warning message in Ops.factor(num, data[, 1]):
“‘-’ not meaningful for factors”Warning message in Ops.factor(num, data[, 1]):
“‘-’ not meaningful for factors”Warning message in Ops.factor(num, data[, 1]):
“‘-’ not meaningful for factors”Warning message in Ops.factor(num, data[, 1]):
“‘-’ not meaningful for factors”Warning message in Ops.factor(num, data[, 1]):
“‘-’ not meaningful for factors”Warning message in Ops.factor(num, data[, 1]):
“‘-’ not meaningful for factors”Warning message in Ops.factor(num, data[, 1]):
“‘-’ not meaningful for factors”Warning message in Ops.factor(num, data[, 1]):
“‘-’ not meaningful for factors”Warning message in Ops.factor(num, data[, 1]):
“‘-’ not meaningful for factors”Warning message in Ops.factor(num, data[, 1]):
“‘-’ not meaningful for factors”Warning message in Ops.factor(num, data[, 1]):
“‘-’ not meaningful for factors”Warning message in Ops.factor(num, data[, 1]):
“‘-’ not meaningful for factors”Warning message in Ops.factor(num, data[, 1]):
“‘-’ not meaningful for factors”Warning message in Ops.factor(num, data[, 1]):
“‘-’ not meaningful for factors”Warning message in Ops.factor(num, data[, 1]):
“‘-’ not meaningful for factors”Warning message in Ops.factor(num, data[, 1]):
“‘-’ not meaningful for factors”Warning message in Ops.factor(num, data[, 1]):
“‘-’ not meaningful for factors”Warning message in Ops.factor(num, data[, 1]):
“‘-’ not meaningful for factors”Warning message in Ops.factor(num, data[, 1]):
“‘-’ not meaningful for factors”Warning message in Ops.factor(num, data[, 1]):
“‘-’ not meaningful for factors”Warning message in Ops.factor(num, data[, 1]):
“‘-’ not meaningful for factors”Warning message in Ops.factor(num, data[, 1]):
“‘-’ not meaningful for factors”Warning message in Ops.factor(num, data[, 1]):
“‘-’ not meaningful for factors”Warning message in Ops.factor(num, data[, 1]):
“‘-’ not meaningful for factors”Warning message in Ops.factor(num, data[, 1]):
“‘-’ not meaningful for factors”Warning message in Ops.factor(num, data[, 1]):
“‘-’ not meaningful for factors”Warning message in Ops.factor(num, data[, 1]):
“‘-’ not meaningful for factors”Warning message in Ops.factor(num, data[, 1]):
“‘-’ not meaningful for factors”Warning message in Ops.factor(num, data[, 1]):
“‘-’ not meaningful for factors”Warning message in Ops.factor(num, data[, 1]):
“‘-’ not meaningful for factors”Warning message in Ops.factor(num, data[, 1]):
“‘-’ not meaningful for factors”Warning message in Ops.factor(num, data[, 1]):
“‘-’ not meaningful for factors”Warning message in Ops.factor(num, data[, 1]):
“‘-’ not meaningful for factors”Warning message in Ops.factor(num, data[, 1]):
“‘-’ not meaningful for factors”Warning message in Ops.factor(num, data[, 1]):
“‘-’ not meaningful for factors”Warning message in Ops.factor(num, data[, 1]):
“‘-’ not meaningful for factors”Warning message in Ops.factor(num, data[, 1]):
“‘-’ not meaningful for factors”Warning message in Ops.factor(num, data[, 1]):
“‘-’ not meaningful for factors”Warning message in Ops.factor(num, data[, 1]):
“‘-’ not meaningful for factors”Warning message in Ops.factor(num, data[, 1]):
“‘-’ not meaningful for factors”Warning message in Ops.factor(num, data[, 1]):
“‘-’ not meaningful for factors”Warning message in Ops.factor(num, data[, 1]):
“‘-’ not meaningful for factors”Warning message in Ops.factor(num, data[, 1]):
“‘-’ not meaningful for factors”Warning message in Ops.factor(num, data[, 1]):
“‘-’ not meaningful for factors”Warning message in Ops.factor(num, data[, 1]):
“‘-’ not meaningful for factors”Warning message in Ops.factor(num, data[, 1]):
“‘-’ not meaningful for factors”Warning message in Ops.factor(num, data[, 1]):
“‘-’ not meaningful for factors”Warning message in Ops.factor(num, data[, 1]):
“‘-’ not meaningful for factors”Warning message in Ops.factor(num, data[, 1]):
“‘-’ not meaningful for factors”Warning message in Ops.factor(num, data[, 1]):
“‘-’ not meaningful for factors”Warning message in Ops.factor(num, data[, 1]):
“‘-’ not meaningful for factors”Warning message in Ops.factor(num, data[, 1]):
“‘-’ not meaningful for factors”Warning message in Ops.factor(num, data[, 1]):
“‘-’ not meaningful for factors”Warning message in Ops.factor(num, data[, 1]):
“‘-’ not meaningful for factors”Warning message in Ops.factor(num, data[, 1]):
“‘-’ not meaningful for factors”Warning message in Ops.factor(num, data[, 1]):
“‘-’ not meaningful for factors”Warning message in Ops.factor(num, data[, 1]):
“‘-’ not meaningful for factors”Warning message in Ops.factor(num, data[, 1]):
“‘-’ not meaningful for factors”Warning message in Ops.factor(num, data[, 1]):
“‘-’ not meaningful for factors”Warning message in Ops.factor(num, data[, 1]):
“‘-’ not meaningful for factors”Warning message in Ops.factor(num, data[, 1]):
“‘-’ not meaningful for factors”Warning message in Ops.factor(num, data[, 1]):
“‘-’ not meaningful for factors”Warning message in Ops.factor(num, data[, 1]):
“‘-’ not meaningful for factors”Warning message in Ops.factor(num, data[, 1]):
“‘-’ not meaningful for factors”Warning message in Ops.factor(num, data[, 1]):
“‘-’ not meaningful for factors”Warning message in Ops.factor(num, data[, 1]):
“‘-’ not meaningful for factors”Warning message in Ops.factor(num, data[, 1]):
“‘-’ not meaningful for factors”Warning message in Ops.factor(num, data[, 1]):
“‘-’ not meaningful for factors”Warning message in Ops.factor(num, data[, 1]):
“‘-’ not meaningful for factors”Warning message in Ops.factor(num, data[, 1]):
“‘-’ not meaningful for factors”Warning message in Ops.factor(num, data[, 1]):
“‘-’ not meaningful for factors”Warning message in Ops.factor(num, data[, 1]):
“‘-’ not meaningful for factors”Warning message in Ops.factor(num, data[, 1]):
“‘-’ not meaningful for factors”Warning message in Ops.factor(num, data[, 1]):
“‘-’ not meaningful for factors”Warning message in Ops.factor(num, data[, 1]):
“‘-’ not meaningful for factors”Warning message in Ops.factor(num, data[, 1]):
“‘-’ not meaningful for factors”Warning message in Ops.factor(num, data[, 1]):
“‘-’ not meaningful for factors”Warning message in Ops.factor(num, data[, 1]):
“‘-’ not meaningful for factors”Warning message in Ops.factor(num, data[, 1]):
“‘-’ not meaningful for factors”Warning message in Ops.factor(num, data[, 1]):
“‘-’ not meaningful for factors”Warning message in Ops.factor(num, data[, 1]):
“‘-’ not meaningful for factors”Warning message in Ops.factor(num, data[, 1]):
“‘-’ not meaningful for factors”Warning message in Ops.factor(num, data[, 1]):
“‘-’ not meaningful for factors”Warning message in Ops.factor(num, data[, 1]):
“‘-’ not meaningful for factors”Warning message in Ops.factor(num, data[, 1]):
“‘-’ not meaningful for factors”Warning message in Ops.factor(num, data[, 1]):
“‘-’ not meaningful for factors”Warning message in Ops.factor(num, data[, 1]):
“‘-’ not meaningful for factors”Warning message in Ops.factor(num, data[, 1]):
“‘-’ not meaningful for factors”Warning message in Ops.factor(num, data[, 1]):
“‘-’ not meaningful for factors”Warning message in Ops.factor(num, data[, 1]):
“‘-’ not meaningful for factors”Warning message in Ops.factor(num, data[, 1]):
“‘-’ not meaningful for factors”Warning message in Ops.factor(num, data[, 1]):
“‘-’ not meaningful for factors”Warning message in Ops.factor(num, data[, 1]):
“‘-’ not meaningful for factors”Warning message in Ops.factor(num, data[, 1]):
“‘-’ not meaningful for factors”Warning message in Ops.factor(num, data[, 1]):
“‘-’ not meaningful for factors”Warning message in Ops.factor(num, data[, 1]):
“‘-’ not meaningful for factors”Warning message in Ops.factor(num, data[, 1]):
“‘-’ not meaningful for factors”Warning message in Ops.factor(num, data[, 1]):
“‘-’ not meaningful for factors”Warning message in Ops.factor(num, data[, 1]):
“‘-’ not meaningful for factors”Warning message in Ops.factor(num, data[, 1]):
“‘-’ not meaningful for factors”Warning message in Ops.factor(num, data[, 1]):
“‘-’ not meaningful for factors”Warning message in Ops.factor(num, data[, 1]):
“‘-’ not meaningful for factors”Warning message in Ops.factor(num, data[, 1]):
“‘-’ not meaningful for factors”Warning message in Ops.factor(num, data[, 1]):
“‘-’ not meaningful for factors”Warning message in Ops.factor(num, data[, 1]):
“‘-’ not meaningful for factors”Warning message in Ops.factor(num, data[, 1]):
“‘-’ not meaningful for factors”Warning message in Ops.factor(num, data[, 1]):
“‘-’ not meaningful for factors”Warning message in Ops.factor(num, data[, 1]):
“‘-’ not meaningful for factors”Warning message in Ops.factor(num, data[, 1]):
“‘-’ not meaningful for factors”Warning message in Ops.factor(num, data[, 1]):
“‘-’ not meaningful for factors”Warning message in Ops.factor(num, data[, 1]):
“‘-’ not meaningful for factors”Warning message in Ops.factor(num, data[, 1]):
“‘-’ not meaningful for factors”Warning message in Ops.factor(num, data[, 1]):
“‘-’ not meaningful for factors”Warning message in Ops.factor(num, data[, 1]):
“‘-’ not meaningful for factors”Warning message in Ops.factor(num, data[, 1]):
“‘-’ not meaningful for factors”Warning message in Ops.factor(num, data[, 1]):
“‘-’ not meaningful for factors”Warning message in Ops.factor(num, data[, 1]):
“‘-’ not meaningful for factors”Warning message in Ops.factor(num, data[, 1]):
“‘-’ not meaningful for factors”Warning message in Ops.factor(num, data[, 1]):
“‘-’ not meaningful for factors”Warning message in Ops.factor(num, data[, 1]):
“‘-’ not meaningful for factors”Warning message in Ops.factor(num, data[, 1]):
“‘-’ not meaningful for factors”Warning message in Ops.factor(num, data[, 1]):
“‘-’ not meaningful for factors”Warning message in Ops.factor(num, data[, 1]):
“‘-’ not meaningful for factors”Warning message in Ops.factor(num, data[, 1]):
“‘-’ not meaningful for factors”Warning message in Ops.factor(num, data[, 1]):
“‘-’ not meaningful for factors”Warning message in Ops.factor(num, data[, 1]):
“‘-’ not meaningful for factors”Warning message in Ops.factor(num, data[, 1]):
“‘-’ not meaningful for factors”Warning message in Ops.factor(num, data[, 1]):
“‘-’ not meaningful for factors”Warning message in Ops.factor(num, data[, 1]):
“‘-’ not meaningful for factors”Warning message in Ops.factor(num, data[, 1]):
“‘-’ not meaningful for factors”Warning message in Ops.factor(num, data[, 1]):
“‘-’ not meaningful for factors”Warning message in Ops.factor(num, data[, 1]):
“‘-’ not meaningful for factors”Warning message in Ops.factor(num, data[, 1]):
“‘-’ not meaningful for factors”Warning message in Ops.factor(num, data[, 1]):
“‘-’ not meaningful for factors”Warning message in Ops.factor(num, data[, 1]):
“‘-’ not meaningful for factors”Warning message in Ops.factor(num, data[, 1]):
“‘-’ not meaningful for factors”Warning message in Ops.factor(num, data[, 1]):
“‘-’ not meaningful for factors”Warning message in Ops.factor(num, data[, 1]):
“‘-’ not meaningful for factors”Warning message in Ops.factor(num, data[, 1]):
“‘-’ not meaningful for factors”Warning message in Ops.factor(num, data[, 1]):
“‘-’ not meaningful for factors”Warning message in Ops.factor(num, data[, 1]):
“‘-’ not meaningful for factors”Warning message in Ops.factor(num, data[, 1]):
“‘-’ not meaningful for factors”Warning message in Ops.factor(num, data[, 1]):
“‘-’ not meaningful for factors”Warning message in Ops.factor(num, data[, 1]):
“‘-’ not meaningful for factors”Warning message in Ops.factor(num, data[, 1]):
“‘-’ not meaningful for factors”Warning message in Ops.factor(num, data[, 1]):
“‘-’ not meaningful for factors”Warning message in Ops.factor(num, data[, 1]):
“‘-’ not meaningful for factors”Warning message in Ops.factor(num, data[, 1]):
“‘-’ not meaningful for factors”Warning message in Ops.factor(num, data[, 1]):
“‘-’ not meaningful for factors”Warning message in Ops.factor(num, data[, 1]):
“‘-’ not meaningful for factors”Warning message in Ops.factor(num, data[, 1]):
“‘-’ not meaningful for factors”Warning message in Ops.factor(num, data[, 1]):
“‘-’ not meaningful for factors”Warning message in Ops.factor(num, data[, 1]):
“‘-’ not meaningful for factors”Warning message in Ops.factor(num, data[, 1]):
“‘-’ not meaningful for factors”Warning message in Ops.factor(num, data[, 1]):
“‘-’ not meaningful for factors”Warning message in Ops.factor(num, data[, 1]):
“‘-’ not meaningful for factors”Warning message in Ops.factor(num, data[, 1]):
“‘-’ not meaningful for factors”Warning message in Ops.factor(num, data[, 1]):
“‘-’ not meaningful for factors”Warning message in Ops.factor(num, data[, 1]):
“‘-’ not meaningful for factors”Warning message in Ops.factor(num, data[, 1]):
“‘-’ not meaningful for factors”Warning message in Ops.factor(num, data[, 1]):
“‘-’ not meaningful for factors”Warning message in Ops.factor(num, data[, 1]):
“‘-’ not meaningful for factors”Warning message in Ops.factor(num, data[, 1]):
“‘-’ not meaningful for factors”Warning message in Ops.factor(num, data[, 1]):
“‘-’ not meaningful for factors”Warning message in Ops.factor(num, data[, 1]):
“‘-’ not meaningful for factors”Warning message in Ops.factor(num, data[, 1]):
“‘-’ not meaningful for factors”Warning message in Ops.factor(num, data[, 1]):
“‘-’ not meaningful for factors”Warning message in Ops.factor(num, data[, 1]):
“‘-’ not meaningful for factors”Warning message in Ops.factor(num, data[, 1]):
“‘-’ not meaningful for factors”Warning message in Ops.factor(num, data[, 1]):
“‘-’ not meaningful for factors”Warning message in Ops.factor(num, data[, 1]):
“‘-’ not meaningful for factors”Warning message in Ops.factor(num, data[, 1]):
“‘-’ not meaningful for factors”Warning message in Ops.factor(num, data[, 1]):
“‘-’ not meaningful for factors”Warning message in Ops.factor(num, data[, 1]):
“‘-’ not meaningful for factors”Warning message in Ops.factor(num, data[, 1]):
“‘-’ not meaningful for factors”Warning message in Ops.factor(num, data[, 1]):
“‘-’ not meaningful for factors”Warning message in Ops.factor(num, data[, 1]):
“‘-’ not meaningful for factors”Warning message in Ops.factor(num, data[, 1]):
“‘-’ not meaningful for factors”Warning message in Ops.factor(num, data[, 1]):
“‘-’ not meaningful for factors”Warning message in Ops.factor(num, data[, 1]):
“‘-’ not meaningful for factors”Warning message in Ops.factor(num, data[, 1]):
“‘-’ not meaningful for factors”Warning message in Ops.factor(num, data[, 1]):
“‘-’ not meaningful for factors”Warning message in Ops.factor(num, data[, 1]):
“‘-’ not meaningful for factors”Warning message in Ops.factor(num, data[, 1]):
“‘-’ not meaningful for factors”Warning message in Ops.factor(num, data[, 1]):
“‘-’ not meaningful for factors”Warning message in Ops.factor(num, data[, 1]):
“‘-’ not meaningful for factors”Warning message in Ops.factor(num, data[, 1]):
“‘-’ not meaningful for factors”Warning message in Ops.factor(num, data[, 1]):
“‘-’ not meaningful for factors”Warning message in Ops.factor(num, data[, 1]):
“‘-’ not meaningful for factors”Warning message in Ops.factor(num, data[, 1]):
“‘-’ not meaningful for factors”Warning message in Ops.factor(num, data[, 1]):
“‘-’ not meaningful for factors”Warning message in Ops.factor(num, data[, 1]):
“‘-’ not meaningful for factors”Warning message in Ops.factor(num, data[, 1]):
“‘-’ not meaningful for factors”Warning message in Ops.factor(num, data[, 1]):
“‘-’ not meaningful for factors”Warning message in Ops.factor(num, data[, 1]):
“‘-’ not meaningful for factors”Warning message in Ops.factor(num, data[, 1]):
“‘-’ not meaningful for factors”Warning message in Ops.factor(num, data[, 1]):
“‘-’ not meaningful for factors”Warning message in Ops.factor(num, data[, 1]):
“‘-’ not meaningful for factors”Warning message in Ops.factor(num, data[, 1]):
“‘-’ not meaningful for factors”Warning message in Ops.factor(num, data[, 1]):
“‘-’ not meaningful for factors”Warning message in Ops.factor(num, data[, 1]):
“‘-’ not meaningful for factors”Warning message in Ops.factor(num, data[, 1]):
“‘-’ not meaningful for factors”Warning message in Ops.factor(num, data[, 1]):
“‘-’ not meaningful for factors”Warning message in Ops.factor(num, data[, 1]):
“‘-’ not meaningful for factors”Warning message in Ops.factor(num, data[, 1]):
“‘-’ not meaningful for factors”Warning message in Ops.factor(num, data[, 1]):
“‘-’ not meaningful for factors”Warning message in Ops.factor(num, data[, 1]):
“‘-’ not meaningful for factors”Warning message in Ops.factor(num, data[, 1]):
“‘-’ not meaningful for factors”Warning message in Ops.factor(num, data[, 1]):
“‘-’ not meaningful for factors”Warning message in Ops.factor(num, data[, 1]):
“‘-’ not meaningful for factors”Warning message in Ops.factor(num, data[, 1]):
“‘-’ not meaningful for factors”Warning message in Ops.factor(num, data[, 1]):
“‘-’ not meaningful for factors”Warning message in Ops.factor(num, data[, 1]):
“‘-’ not meaningful for factors”Warning message in Ops.factor(num, data[, 1]):
“‘-’ not meaningful for factors”Warning message in Ops.factor(num, data[, 1]):
“‘-’ not meaningful for factors”Warning message in Ops.factor(num, data[, 1]):
“‘-’ not meaningful for factors”Warning message in Ops.factor(num, data[, 1]):
“‘-’ not meaningful for factors”

Q2h) kNN with k=25
Repeat the above but this time using k=25. You should see lines smoother than for k=5.

###
### YOUR CODE HERE
###
#ggplot(frisk, aes(x = popl, y=stops, color = eth)) + geom_point() + geom_smooth(aes(group = eth, color = eth), method = knn(frisk, frisk$eth, k = 25)) + ggtitle('Title')
p = ggplot(frisk, aes(popl, stops)) 
P = p + geom_point(aes(color = factor(eth))) 
p = p + geom_smooth(method = custom_smooth, method.args = list(pred_fn = knn, k = 25), mapping = aes(group = factor(eth), color = factor(eth))) 
p = p + labs(title = 'police stops per ethnicities at knn = 5', x = 'population', y = 'stops') 
p
Warning message in Ops.factor(num, data[, 1]):
“‘-’ not meaningful for factors”Warning message in Ops.factor(num, data[, 1]):
“‘-’ not meaningful for factors”Warning message in Ops.factor(num, data[, 1]):
“‘-’ not meaningful for factors”Warning message in Ops.factor(num, data[, 1]):
“‘-’ not meaningful for factors”Warning message in Ops.factor(num, data[, 1]):
“‘-’ not meaningful for factors”Warning message in Ops.factor(num, data[, 1]):
“‘-’ not meaningful for factors”Warning message in Ops.factor(num, data[, 1]):
“‘-’ not meaningful for factors”Warning message in Ops.factor(num, data[, 1]):
“‘-’ not meaningful for factors”Warning message in Ops.factor(num, data[, 1]):
“‘-’ not meaningful for factors”Warning message in Ops.factor(num, data[, 1]):
“‘-’ not meaningful for factors”Warning message in Ops.factor(num, data[, 1]):
“‘-’ not meaningful for factors”Warning message in Ops.factor(num, data[, 1]):
“‘-’ not meaningful for factors”Warning message in Ops.factor(num, data[, 1]):
“‘-’ not meaningful for factors”Warning message in Ops.factor(num, data[, 1]):
“‘-’ not meaningful for factors”Warning message in Ops.factor(num, data[, 1]):
“‘-’ not meaningful for factors”Warning message in Ops.factor(num, data[, 1]):
“‘-’ not meaningful for factors”Warning message in Ops.factor(num, data[, 1]):
“‘-’ not meaningful for factors”Warning message in Ops.factor(num, data[, 1]):
“‘-’ not meaningful for factors”Warning message in Ops.factor(num, data[, 1]):
“‘-’ not meaningful for factors”Warning message in Ops.factor(num, data[, 1]):
“‘-’ not meaningful for factors”Warning message in Ops.factor(num, data[, 1]):
“‘-’ not meaningful for factors”Warning message in Ops.factor(num, data[, 1]):
“‘-’ not meaningful for factors”Warning message in Ops.factor(num, data[, 1]):
“‘-’ not meaningful for factors”Warning message in Ops.factor(num, data[, 1]):
“‘-’ not meaningful for factors”Warning message in Ops.factor(num, data[, 1]):
“‘-’ not meaningful for factors”Warning message in Ops.factor(num, data[, 1]):
“‘-’ not meaningful for factors”Warning message in Ops.factor(num, data[, 1]):
“‘-’ not meaningful for factors”Warning message in Ops.factor(num, data[, 1]):
“‘-’ not meaningful for factors”Warning message in Ops.factor(num, data[, 1]):
“‘-’ not meaningful for factors”Warning message in Ops.factor(num, data[, 1]):
“‘-’ not meaningful for factors”Warning message in Ops.factor(num, data[, 1]):
“‘-’ not meaningful for factors”Warning message in Ops.factor(num, data[, 1]):
“‘-’ not meaningful for factors”Warning message in Ops.factor(num, data[, 1]):
“‘-’ not meaningful for factors”Warning message in Ops.factor(num, data[, 1]):
“‘-’ not meaningful for factors”Warning message in Ops.factor(num, data[, 1]):
“‘-’ not meaningful for factors”Warning message in Ops.factor(num, data[, 1]):
“‘-’ not meaningful for factors”Warning message in Ops.factor(num, data[, 1]):
“‘-’ not meaningful for factors”Warning message in Ops.factor(num, data[, 1]):
“‘-’ not meaningful for factors”Warning message in Ops.factor(num, data[, 1]):
“‘-’ not meaningful for factors”Warning message in Ops.factor(num, data[, 1]):
“‘-’ not meaningful for factors”Warning message in Ops.factor(num, data[, 1]):
“‘-’ not meaningful for factors”Warning message in Ops.factor(num, data[, 1]):
“‘-’ not meaningful for factors”Warning message in Ops.factor(num, data[, 1]):
“‘-’ not meaningful for factors”Warning message in Ops.factor(num, data[, 1]):
“‘-’ not meaningful for factors”Warning message in Ops.factor(num, data[, 1]):
“‘-’ not meaningful for factors”Warning message in Ops.factor(num, data[, 1]):
“‘-’ not meaningful for factors”Warning message in Ops.factor(num, data[, 1]):
“‘-’ not meaningful for factors”Warning message in Ops.factor(num, data[, 1]):
“‘-’ not meaningful for factors”Warning message in Ops.factor(num, data[, 1]):
“‘-’ not meaningful for factors”Warning message in Ops.factor(num, data[, 1]):
“‘-’ not meaningful for factors”Warning message in Ops.factor(num, data[, 1]):
“‘-’ not meaningful for factors”Warning message in Ops.factor(num, data[, 1]):
“‘-’ not meaningful for factors”Warning message in Ops.factor(num, data[, 1]):
“‘-’ not meaningful for factors”Warning message in Ops.factor(num, data[, 1]):
“‘-’ not meaningful for factors”Warning message in Ops.factor(num, data[, 1]):
“‘-’ not meaningful for factors”Warning message in Ops.factor(num, data[, 1]):
“‘-’ not meaningful for factors”Warning message in Ops.factor(num, data[, 1]):
“‘-’ not meaningful for factors”Warning message in Ops.factor(num, data[, 1]):
“‘-’ not meaningful for factors”Warning message in Ops.factor(num, data[, 1]):
“‘-’ not meaningful for factors”Warning message in Ops.factor(num, data[, 1]):
“‘-’ not meaningful for factors”Warning message in Ops.factor(num, data[, 1]):
“‘-’ not meaningful for factors”Warning message in Ops.factor(num, data[, 1]):
“‘-’ not meaningful for factors”Warning message in Ops.factor(num, data[, 1]):
“‘-’ not meaningful for factors”Warning message in Ops.factor(num, data[, 1]):
“‘-’ not meaningful for factors”Warning message in Ops.factor(num, data[, 1]):
“‘-’ not meaningful for factors”Warning message in Ops.factor(num, data[, 1]):
“‘-’ not meaningful for factors”Warning message in Ops.factor(num, data[, 1]):
“‘-’ not meaningful for factors”Warning message in Ops.factor(num, data[, 1]):
“‘-’ not meaningful for factors”Warning message in Ops.factor(num, data[, 1]):
“‘-’ not meaningful for factors”Warning message in Ops.factor(num, data[, 1]):
“‘-’ not meaningful for factors”Warning message in Ops.factor(num, data[, 1]):
“‘-’ not meaningful for factors”Warning message in Ops.factor(num, data[, 1]):
“‘-’ not meaningful for factors”Warning message in Ops.factor(num, data[, 1]):
“‘-’ not meaningful for factors”Warning message in Ops.factor(num, data[, 1]):
“‘-’ not meaningful for factors”Warning message in Ops.factor(num, data[, 1]):
“‘-’ not meaningful for factors”Warning message in Ops.factor(num, data[, 1]):
“‘-’ not meaningful for factors”Warning message in Ops.factor(num, data[, 1]):
“‘-’ not meaningful for factors”Warning message in Ops.factor(num, data[, 1]):
“‘-’ not meaningful for factors”Warning message in Ops.factor(num, data[, 1]):
“‘-’ not meaningful for factors”Warning message in Ops.factor(num, data[, 1]):
“‘-’ not meaningful for factors”Warning message in Ops.factor(num, data[, 1]):
“‘-’ not meaningful for factors”Warning message in Ops.factor(num, data[, 1]):
“‘-’ not meaningful for factors”Warning message in Ops.factor(num, data[, 1]):
“‘-’ not meaningful for factors”Warning message in Ops.factor(num, data[, 1]):
“‘-’ not meaningful for factors”Warning message in Ops.factor(num, data[, 1]):
“‘-’ not meaningful for factors”Warning message in Ops.factor(num, data[, 1]):
“‘-’ not meaningful for factors”Warning message in Ops.factor(num, data[, 1]):
“‘-’ not meaningful for factors”Warning message in Ops.factor(num, data[, 1]):
“‘-’ not meaningful for factors”Warning message in Ops.factor(num, data[, 1]):
“‘-’ not meaningful for factors”Warning message in Ops.factor(num, data[, 1]):
“‘-’ not meaningful for factors”Warning message in Ops.factor(num, data[, 1]):
“‘-’ not meaningful for factors”Warning message in Ops.factor(num, data[, 1]):
“‘-’ not meaningful for factors”Warning message in Ops.factor(num, data[, 1]):
“‘-’ not meaningful for factors”Warning message in Ops.factor(num, data[, 1]):
“‘-’ not meaningful for factors”Warning message in Ops.factor(num, data[, 1]):
“‘-’ not meaningful for factors”Warning message in Ops.factor(num, data[, 1]):
“‘-’ not meaningful for factors”Warning message in Ops.factor(num, data[, 1]):
“‘-’ not meaningful for factors”Warning message in Ops.factor(num, data[, 1]):
“‘-’ not meaningful for factors”Warning message in Ops.factor(num, data[, 1]):
“‘-’ not meaningful for factors”Warning message in Ops.factor(num, data[, 1]):
“‘-’ not meaningful for factors”Warning message in Ops.factor(num, data[, 1]):
“‘-’ not meaningful for factors”Warning message in Ops.factor(num, data[, 1]):
“‘-’ not meaningful for factors”Warning message in Ops.factor(num, data[, 1]):
“‘-’ not meaningful for factors”Warning message in Ops.factor(num, data[, 1]):
“‘-’ not meaningful for factors”Warning message in Ops.factor(num, data[, 1]):
“‘-’ not meaningful for factors”Warning message in Ops.factor(num, data[, 1]):
“‘-’ not meaningful for factors”Warning message in Ops.factor(num, data[, 1]):
“‘-’ not meaningful for factors”Warning message in Ops.factor(num, data[, 1]):
“‘-’ not meaningful for factors”Warning message in Ops.factor(num, data[, 1]):
“‘-’ not meaningful for factors”Warning message in Ops.factor(num, data[, 1]):
“‘-’ not meaningful for factors”Warning message in Ops.factor(num, data[, 1]):
“‘-’ not meaningful for factors”Warning message in Ops.factor(num, data[, 1]):
“‘-’ not meaningful for factors”Warning message in Ops.factor(num, data[, 1]):
“‘-’ not meaningful for factors”Warning message in Ops.factor(num, data[, 1]):
“‘-’ not meaningful for factors”Warning message in Ops.factor(num, data[, 1]):
“‘-’ not meaningful for factors”Warning message in Ops.factor(num, data[, 1]):
“‘-’ not meaningful for factors”Warning message in Ops.factor(num, data[, 1]):
“‘-’ not meaningful for factors”Warning message in Ops.factor(num, data[, 1]):
“‘-’ not meaningful for factors”Warning message in Ops.factor(num, data[, 1]):
“‘-’ not meaningful for factors”Warning message in Ops.factor(num, data[, 1]):
“‘-’ not meaningful for factors”Warning message in Ops.factor(num, data[, 1]):
“‘-’ not meaningful for factors”Warning message in Ops.factor(num, data[, 1]):
“‘-’ not meaningful for factors”Warning message in Ops.factor(num, data[, 1]):
“‘-’ not meaningful for factors”Warning message in Ops.factor(num, data[, 1]):
“‘-’ not meaningful for factors”Warning message in Ops.factor(num, data[, 1]):
“‘-’ not meaningful for factors”Warning message in Ops.factor(num, data[, 1]):
“‘-’ not meaningful for factors”Warning message in Ops.factor(num, data[, 1]):
“‘-’ not meaningful for factors”Warning message in Ops.factor(num, data[, 1]):
“‘-’ not meaningful for factors”Warning message in Ops.factor(num, data[, 1]):
“‘-’ not meaningful for factors”Warning message in Ops.factor(num, data[, 1]):
“‘-’ not meaningful for factors”Warning message in Ops.factor(num, data[, 1]):
“‘-’ not meaningful for factors”Warning message in Ops.factor(num, data[, 1]):
“‘-’ not meaningful for factors”Warning message in Ops.factor(num, data[, 1]):
“‘-’ not meaningful for factors”Warning message in Ops.factor(num, data[, 1]):
“‘-’ not meaningful for factors”Warning message in Ops.factor(num, data[, 1]):
“‘-’ not meaningful for factors”Warning message in Ops.factor(num, data[, 1]):
“‘-’ not meaningful for factors”Warning message in Ops.factor(num, data[, 1]):
“‘-’ not meaningful for factors”Warning message in Ops.factor(num, data[, 1]):
“‘-’ not meaningful for factors”Warning message in Ops.factor(num, data[, 1]):
“‘-’ not meaningful for factors”Warning message in Ops.factor(num, data[, 1]):
“‘-’ not meaningful for factors”Warning message in Ops.factor(num, data[, 1]):
“‘-’ not meaningful for factors”Warning message in Ops.factor(num, data[, 1]):
“‘-’ not meaningful for factors”Warning message in Ops.factor(num, data[, 1]):
“‘-’ not meaningful for factors”Warning message in Ops.factor(num, data[, 1]):
“‘-’ not meaningful for factors”Warning message in Ops.factor(num, data[, 1]):
“‘-’ not meaningful for factors”Warning message in Ops.factor(num, data[, 1]):
“‘-’ not meaningful for factors”Warning message in Ops.factor(num, data[, 1]):
“‘-’ not meaningful for factors”Warning message in Ops.factor(num, data[, 1]):
“‘-’ not meaningful for factors”Warning message in Ops.factor(num, data[, 1]):
“‘-’ not meaningful for factors”Warning message in Ops.factor(num, data[, 1]):
“‘-’ not meaningful for factors”Warning message in Ops.factor(num, data[, 1]):
“‘-’ not meaningful for factors”Warning message in Ops.factor(num, data[, 1]):
“‘-’ not meaningful for factors”Warning message in Ops.factor(num, data[, 1]):
“‘-’ not meaningful for factors”Warning message in Ops.factor(num, data[, 1]):
“‘-’ not meaningful for factors”Warning message in Ops.factor(num, data[, 1]):
“‘-’ not meaningful for factors”Warning message in Ops.factor(num, data[, 1]):
“‘-’ not meaningful for factors”Warning message in Ops.factor(num, data[, 1]):
“‘-’ not meaningful for factors”Warning message in Ops.factor(num, data[, 1]):
“‘-’ not meaningful for factors”Warning message in Ops.factor(num, data[, 1]):
“‘-’ not meaningful for factors”Warning message in Ops.factor(num, data[, 1]):
“‘-’ not meaningful for factors”Warning message in Ops.factor(num, data[, 1]):
“‘-’ not meaningful for factors”Warning message in Ops.factor(num, data[, 1]):
“‘-’ not meaningful for factors”Warning message in Ops.factor(num, data[, 1]):
“‘-’ not meaningful for factors”Warning message in Ops.factor(num, data[, 1]):
“‘-’ not meaningful for factors”Warning message in Ops.factor(num, data[, 1]):
“‘-’ not meaningful for factors”Warning message in Ops.factor(num, data[, 1]):
“‘-’ not meaningful for factors”Warning message in Ops.factor(num, data[, 1]):
“‘-’ not meaningful for factors”Warning message in Ops.factor(num, data[, 1]):
“‘-’ not meaningful for factors”Warning message in Ops.factor(num, data[, 1]):
“‘-’ not meaningful for factors”Warning message in Ops.factor(num, data[, 1]):
“‘-’ not meaningful for factors”Warning message in Ops.factor(num, data[, 1]):
“‘-’ not meaningful for factors”Warning message in Ops.factor(num, data[, 1]):
“‘-’ not meaningful for factors”Warning message in Ops.factor(num, data[, 1]):
“‘-’ not meaningful for factors”Warning message in Ops.factor(num, data[, 1]):
“‘-’ not meaningful for factors”Warning message in Ops.factor(num, data[, 1]):
“‘-’ not meaningful for factors”Warning message in Ops.factor(num, data[, 1]):
“‘-’ not meaningful for factors”Warning message in Ops.factor(num, data[, 1]):
“‘-’ not meaningful for factors”Warning message in Ops.factor(num, data[, 1]):
“‘-’ not meaningful for factors”Warning message in Ops.factor(num, data[, 1]):
“‘-’ not meaningful for factors”Warning message in Ops.factor(num, data[, 1]):
“‘-’ not meaningful for factors”Warning message in Ops.factor(num, data[, 1]):
“‘-’ not meaningful for factors”Warning message in Ops.factor(num, data[, 1]):
“‘-’ not meaningful for factors”Warning message in Ops.factor(num, data[, 1]):
“‘-’ not meaningful for factors”Warning message in Ops.factor(num, data[, 1]):
“‘-’ not meaningful for factors”Warning message in Ops.factor(num, data[, 1]):
“‘-’ not meaningful for factors”Warning message in Ops.factor(num, data[, 1]):
“‘-’ not meaningful for factors”Warning message in Ops.factor(num, data[, 1]):
“‘-’ not meaningful for factors”Warning message in Ops.factor(num, data[, 1]):
“‘-’ not meaningful for factors”Warning message in Ops.factor(num, data[, 1]):
“‘-’ not meaningful for factors”Warning message in Ops.factor(num, data[, 1]):
“‘-’ not meaningful for factors”Warning message in Ops.factor(num, data[, 1]):
“‘-’ not meaningful for factors”Warning message in Ops.factor(num, data[, 1]):
“‘-’ not meaningful for factors”Warning message in Ops.factor(num, data[, 1]):
“‘-’ not meaningful for factors”Warning message in Ops.factor(num, data[, 1]):
“‘-’ not meaningful for factors”Warning message in Ops.factor(num, data[, 1]):
“‘-’ not meaningful for factors”Warning message in Ops.factor(num, data[, 1]):
“‘-’ not meaningful for factors”Warning message in Ops.factor(num, data[, 1]):
“‘-’ not meaningful for factors”Warning message in Ops.factor(num, data[, 1]):
“‘-’ not meaningful for factors”Warning message in Ops.factor(num, data[, 1]):
“‘-’ not meaningful for factors”Warning message in Ops.factor(num, data[, 1]):
“‘-’ not meaningful for factors”Warning message in Ops.factor(num, data[, 1]):
“‘-’ not meaningful for factors”Warning message in Ops.factor(num, data[, 1]):
“‘-’ not meaningful for factors”Warning message in Ops.factor(num, data[, 1]):
“‘-’ not meaningful for factors”Warning message in Ops.factor(num, data[, 1]):
“‘-’ not meaningful for factors”Warning message in Ops.factor(num, data[, 1]):
“‘-’ not meaningful for factors”Warning message in Ops.factor(num, data[, 1]):
“‘-’ not meaningful for factors”Warning message in Ops.factor(num, data[, 1]):
“‘-’ not meaningful for factors”Warning message in Ops.factor(num, data[, 1]):
“‘-’ not meaningful for factors”Warning message in Ops.factor(num, data[, 1]):
“‘-’ not meaningful for factors”Warning message in Ops.factor(num, data[, 1]):
“‘-’ not meaningful for factors”Warning message in Ops.factor(num, data[, 1]):
“‘-’ not meaningful for factors”Warning message in Ops.factor(num, data[, 1]):
“‘-’ not meaningful for factors”Warning message in Ops.factor(num, data[, 1]):
“‘-’ not meaningful for factors”Warning message in Ops.factor(num, data[, 1]):
“‘-’ not meaningful for factors”Warning message in Ops.factor(num, data[, 1]):
“‘-’ not meaningful for factors”Warning message in Ops.factor(num, data[, 1]):
“‘-’ not meaningful for factors”Warning message in Ops.factor(num, data[, 1]):
“‘-’ not meaningful for factors”Warning message in Ops.factor(num, data[, 1]):
“‘-’ not meaningful for factors”Warning message in Ops.factor(num, data[, 1]):
“‘-’ not meaningful for factors”Warning message in Ops.factor(num, data[, 1]):
“‘-’ not meaningful for factors”Warning message in Ops.factor(num, data[, 1]):
“‘-’ not meaningful for factors”Warning message in Ops.factor(num, data[, 1]):
“‘-’ not meaningful for factors”Warning message in Ops.factor(num, data[, 1]):
“‘-’ not meaningful for factors”Warning message in Ops.factor(num, data[, 1]):
“‘-’ not meaningful for factors”Warning message in Ops.factor(num, data[, 1]):
“‘-’ not meaningful for factors”

​

