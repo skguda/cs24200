Jupyter NotebookHomework2 Last Checkpoint: 09/21/2020 (autosaved)Python 3 [3.6]
​
# Homework 2 Solutions
Please submit this homework as a single Jupyter notebook (a .ipynb file). Any paragraph/descriptive/yes-no answers that you want to be considered for grading must be included as separate markdown cells in the Jupyter notebook (rather than as comments in the code), and these cells should accompany the associated questions: graders cannot be expected to hunt through your submission to find answers to individual questions. Please post any questions you have on piazza.

Important

For this homework you can ONLY use the python libraries math, numpy, and pandas.
Unless specified, you will lose up to 25% credit if you use loops of any kind. For full points, you should use pandas functionality, with code that returns correct answers if run on a test dataframe with the numeric entries changed.
To reiterate the previous point, you should be using Pandas function be do most of the work for you. Almost all of the questions below can be completed in just a few lines each by using the correct Pandas functions for the job.
All answers given as floats must be relatively correct with epsilon = 0.001. That is, if the correct answer is X and you return answer Y then you will still get points if (0.999)X< Y < (1.001)X.
Import Statements
import numpy
import pandas as pd
import math
Q1: Analyzing the Election Data
(a) Find how many votes were cast for Bush and Gore. (Columns named "bush" and "gore").

import pandas as pd 
​
data_frame = pd.read_csv("bush-gore-results-sample.csv")
def count_bush_gore(data):
###
### YOUR CODE HERE
###   
    #myDF = pd.read_csv(data) 
    newDF = data[['bush', 'gore']] 
    bushSum = newDF['bush'].sum() 
    goreSum = newDF['gore'].sum()
    return(bushSum + goreSum)
    
    
    
​
print(count_bush_gore(data_frame))  # Should print 3423437
3423437
# Code to test count_bush_gore. 
​
###
### AUTOGRADER TEST - DO NOT REMOVE
###
​
(b) Now find how many votes were submitted in total. You can assume the last ten columns (starting from 'bush') record the number of votes registered for each of the ten candidates, each column being a different candidate.

import pandas as pd 
​
votes = pd.read_csv("bush-gore-results-sample.csv")
def count_total_votes(data):
###
### YOUR CODE HERE
### 
   # votes = pd.read_csv(data) 
    candidates = data[['bush', 'gore', 'brow', 'nade', 'harr', 'hage', 'buch', 'mcre', 'phil', 'moor']] 
    total = candidates['bush'].sum() + candidates['gore'].sum() + candidates['brow'].sum() + candidates['nade'].sum() + candidates['harr'].sum() + candidates['hage'].sum() + candidates['buch'].sum() + candidates['mcre'].sum() + candidates['phil'].sum() + candidates['moor'].sum()
    return(total)
​
​
​
​
​
#data_frame = "bush-gore-results-sample.csv"
print(count_total_votes(votes))  # Should print 3502747
3502747
# Code to test count_total_votes. 
    
###
### AUTOGRADER TEST - DO NOT REMOVE
###
​
(c) Determine the county where there was the biggest vote difference between Bush and Gore. Return a tuple of two integers (county, winner) (County is given by the column named "co" and winner should equal "Bush" or "Gore").

import pandas as pd 
​
data_frame = pd.read_csv("bush-gore-results-sample.csv")
def max_bush_gore_diff(raw):
###
### YOUR CODE HERE
###
    #raw = pd.read_csv(data) 
    countyBG = raw[['co', 'bush', 'gore']]   
    difference = abs(countyBG['bush'] - countyBG['gore'])
    countyBG['Difference'] = difference 
    sortcount = countyBG.sort_values(by='Difference', ascending = False)
    county = sortcount['co'].iloc[0]
    bushvot = sortcount['bush'].iloc[0] 
    gorevot = sortcount['gore'].iloc[0] 
    if bushvot > gorevot: 
        return((county, 'Bush')) 
    else: 
        return((county, 'Gore'))
#data_frame = "bush-gore-results-sample.csv"
print(max_bush_gore_diff(data_frame))  # Should print (50, 'Gore')
(50, 'Gore')
/usr/local/lib/python3.6/site-packages/ipykernel_launcher.py:11: SettingWithCopyWarning: 
A value is trying to be set on a copy of a slice from a DataFrame.
Try using .loc[row_indexer,col_indexer] = value instead

See the caveats in the documentation: http://pandas.pydata.org/pandas-docs/stable/indexing.html#indexing-view-versus-copy
  # This is added back by InteractiveShellApp.init_path()
# Code to test max_bush_gore_diff. 
    
###
### AUTOGRADER TEST - DO NOT REMOVE
###
​
(d) Determine the mean and standard deviation of the number of votes per county that Nader ("nade") obtained. You can assume that each row corresponds to a unique county. Return a tuple of two integers, (mean, standard_deviation). Use population standard deviation, not sample standard deviation.

import pandas as pd 
import math 
import numpy as np
def summary_stats(data):
###
### YOUR CODE HERE
### 
    mean = data['nade'].mean() 
    standard_deviation = np.std(data['nade']) 
    return((mean, standard_deviation))
    
    
print(summary_stats(data_frame)) # Should print (1636.8235294117646, 2118.545609202194)  
(1636.8235294117646, 2118.545609202194)
# Code to test summary_stats. 
    
###
### AUTOGRADER TEST - DO NOT REMOVE
###
​
(e) In how many counties were Nader's vote counts greater than the mean number of votes he received per county?

def count_nader_best(data):
###
### YOUR CODE HERE
### 
    ndata = data[data['nade'] > data['nade'].mean()] 
    return(len(ndata))
print(count_nader_best(data_frame))  # Should print 11
11
# Code to test count_nader_best. 
    
###
### AUTOGRADER TEST - DO NOT REMOVE
###
​
(f) Determine, for the number of votes Nader obtained in county number 7 ("co"=7), how many standard deviations it is away from Nader's overall mean, in absolute value. Use population standard deviation, not sample standard deviation.

def nader_county_stdev(data):
###
### YOUR CODE HERE
###    
    #print(data.sort_values(by = 'co'))
    nadevote = data[['co', 'nade']] 
    nademean = nadevote['nade'].mean() 
    county7 = nadevote[nadevote['co'] == 7] 
    county7_votes = county7['nade'].iloc[0] 
    sdev = np.std(nadevote['nade']) 
    return((nademean-county7_votes)/sdev)
    
    
    
    
print(nader_county_stdev(data_frame))  # Should return 0.754208
0.7542077557695235
# Code to test nader_county_stdev. 
    
###
### AUTOGRADER TEST - DO NOT REMOVE
###
​
(g) Calculate the correlation between the (absolute difference in votes between Bush and Gore) and (the votes obtained by Nader).

def corr_diff_nader(data):
###
### YOUR CODE HERE
###  
    votes = data[['bush', 'gore', 'nade']] 
    votes['bgdiff'] = abs(votes['bush'] - votes['gore']) 
    correlation = votes['bgdiff'].corr(votes['nade']) 
    return(correlation)
    
​
print(corr_diff_nader(data_frame))  # Should print 0.5077903469484031
0.507790346948403
/usr/local/lib/python3.6/site-packages/ipykernel_launcher.py:6: SettingWithCopyWarning: 
A value is trying to be set on a copy of a slice from a DataFrame.
Try using .loc[row_indexer,col_indexer] = value instead

See the caveats in the documentation: http://pandas.pydata.org/pandas-docs/stable/indexing.html#indexing-view-versus-copy
  
# Code to test corr_diff_nader. 
    
###
### AUTOGRADER TEST - DO NOT REMOVE
###
​
(h) Find the distance between the county that Bush won by the largest margin and the county that Gore won by the largest margin. (Just use basic Euclidean distance between the latitude ("lat") and longitude ("lon") values for the counties, no need to compute spherical distance.)

import pandas as pd 
import math 
data_frame = pd.read_csv("bush-gore-results-sample.csv")
def max_win_dist(dat):
###
### YOUR CODE HERE
### 
    #dat = pd.read_csv(data)  
    #print(dat)
    ndat = dat[['co','lat', 'lon', 'bush', 'gore']] 
    ndat['margin'] = ndat['bush'] - ndat['gore'] 
    sortdata = ndat.sort_values(by='margin', ascending = False) 
    #print(sortdata)
    # the county which bush has the majority is county 15, while county 50 has the county where Gore has the majority 
    
    # The coordinates {(30.3, 81.6), (26.6, 80.4)  
    x = sortdata['lat'].iloc[0]
    y = sortdata['lon'].iloc[0] 
    z = sortdata['lat'].iloc[len(sortdata) - 1]
    w = sortdata['lon'].iloc[len(sortdata) - 1] 
    dist = math.sqrt((x-z)**2 + (y-w)**2) 
    return(dist)
​
​
print(max_win_dist(data_frame)) # Should print 3.8897300677553406
3.8897300677553406
/usr/local/lib/python3.6/site-packages/ipykernel_launcher.py:11: SettingWithCopyWarning: 
A value is trying to be set on a copy of a slice from a DataFrame.
Try using .loc[row_indexer,col_indexer] = value instead

See the caveats in the documentation: http://pandas.pydata.org/pandas-docs/stable/indexing.html#indexing-view-versus-copy
  # This is added back by InteractiveShellApp.init_path()
# Code to test max_win_dist. 
    
###
### AUTOGRADER TEST - DO NOT REMOVE
###
​
Q2: Movie Dataset
(a) The below function 'movies_small_shape' should take as input the 'movies' dataframe and return an appropriately subsampled dataframe we will call 'smallMovies'. This smaller dataframe should only include the columns [movie_title, director_name, actor_1_name, title_year, genres, imdb_score, budget, gross, country]. Additionally, this smaller dataframe should only include rows where the corresponding movie was made in either the USA or UK ("country").

The provided dataframe 'movies' is random sample of the rows from the full dataset used in the test cases. This dataframe is used in the example output in the functions below to help you check your code.

import pandas as pd
​
movies = pd.read_csv("movie_data_sample.csv")
def movies_small_shape(movies):
###
### YOUR CODE HERE
###   
    
    small = movies[['movie_title', 'director_name', 'actor_1_name', 'title_year', 'genres', 'imdb_score', 'budget', 'gross', 'country']]
    shortfilm = small[(small['country'] == 'USA') | (small['country'] == 'UK')]
    return(shortfilm)
    
​
print(movies_small_shape(movies).shape)   #  Should print (2123, 9)
(2123, 9)
# Code to test movies_small_shape. 
    
###
### AUTOGRADER TEST - DO NOT REMOVE
###
​
(b.i) Fill out the function 'movies_missing_values' such that it takes as input the 'smallMovies' dataframe generated by the previous question and returns a tuple of two integers, (missing_values, incorrect_rows), where 'missing_values' is number of missing entries in the dataframe and 'incorrect_rows' is the number of rows in the dataframe that contain at least one missing value.

import pandas as pd
def movies_missing_values(smallMovies):  
###
### YOUR CODE HERE
###   
    #missing_values = len(smallMovies[(smallMovies['movie_title'] == 'NaN')|(smallMovies['director_name'] == 'NaN')|(smallMovies['actor_1_name'] == 'NaN')|(smallMovies['title_year'] == 'NaN')|(smallMovies['genres'] == 'NaN')|(smallMovies['imdb_score'] == 'NaN')|(smallMovies['budget'] == 'NaN')|(smallMovies['gross'] == 'NaN')]) 
    #print(missing_values)
    missing_values = smallMovies.isnull().sum().sum() 
    incorrect_rows = smallMovies.isnull().any(axis=1).sum()
    return((missing_values, incorrect_rows))
​
smallMovies = movies_small_shape(movies) # Correct output of this function will depend on previous functions
print(movies_missing_values(smallMovies)) # Should print (577, 419) 
#print(smallMovies)
(577, 419)
# Code to test movies_missing_values. 
    
###
### AUTOGRADER TEST - DO NOT REMOVE
###
​
(b.ii) You will now clean the dataset of missing values. Fill out 'clean_movies' so that it drops all rows with missing values from the 'smallMovies' dataframe and returns this new dataframe we will call 'cleanMovies'.

def clean_movies(smallMovies):
###
### YOUR CODE HERE
### 
    cleanDF = smallMovies[(smallMovies['movie_title'].notnull())&(smallMovies['director_name'].notnull())&(smallMovies['actor_1_name'].notnull())&(smallMovies['title_year'].notnull())&(smallMovies['genres'].notnull())&(smallMovies['imdb_score'].notnull())&(smallMovies['budget'].notnull())&(smallMovies['gross'].notnull())]
    return(cleanDF)
smallMovies = movies_small_shape(movies) # Correct output of this function will depend on previous functions
print(clean_movies(smallMovies).shape)  # Should print (1704, 9)
(1704, 9)
# Code to test clean_movies. 
    
###
### AUTOGRADER TEST - DO NOT REMOVE
###
​
(c.i) Fill out 'add_profit_col' so that it adds a new column called "profit" to the input dataframe 'cleanMovies' where profit of a movie is equal to "gross" minus "budget".

def add_profit_col(cleanMovies):
###
### YOUR CODE HERE
###
    cleanMovies['add_profit_col'] = cleanMovies['gross']-cleanMovies['budget'] 
    return(cleanMovies) 
​
cleanMovies = clean_movies(smallMovies) # Correct output of this function will depend on previous functions
print(add_profit_col(cleanMovies).shape)  # Should print (1704, 10)
(1704, 10)
/usr/local/lib/python3.6/site-packages/ipykernel_launcher.py:5: SettingWithCopyWarning: 
A value is trying to be set on a copy of a slice from a DataFrame.
Try using .loc[row_indexer,col_indexer] = value instead

See the caveats in the documentation: http://pandas.pydata.org/pandas-docs/stable/indexing.html#indexing-view-versus-copy
  """
# Code to test add_profit_col. 
    
###
### AUTOGRADER TEST - DO NOT REMOVE
###
​
(c.ii) Fill out 'compare_profit' to take in dataframe 'profitMovies' and compare the median profits of movies made in the UK and USA. Return a tuple (country, median_profit) where 'country' is the country ("USA" or "UK") with the higher median profit and 'median_profit' is the associated median profit.

def compare_profit(profitMovies):
    
###
### YOUR CODE HERE
###  
    usaDF = profitMovies[profitMovies['country'] == 'USA'] 
    ukDF = profitMovies[profitMovies['country'] == 'UK'] 
    usaMed = usaDF['add_profit_col'].median() 
    ukMed = ukDF['add_profit_col'].median()  
    if (usaMed > ukMed): 
        return(('USA', usaMed)) 
    else: 
        return(('UK', ukMed))
    
​
profitMovies = add_profit_col(cleanMovies) # Correct output of this function will depend on previous functions
print(compare_profit(profitMovies))  # Shold print ('USA', 3352454.0)
('USA', 3352454.0)
/usr/local/lib/python3.6/site-packages/ipykernel_launcher.py:5: SettingWithCopyWarning: 
A value is trying to be set on a copy of a slice from a DataFrame.
Try using .loc[row_indexer,col_indexer] = value instead

See the caveats in the documentation: http://pandas.pydata.org/pandas-docs/stable/indexing.html#indexing-view-versus-copy
  """
# Code to test compare_profit.
    
###
### AUTOGRADER TEST - DO NOT REMOVE
###
​
(d) Determine what the sum of the budget for: the five most profitable movies, the five least profitable movies, the five top grossing movies, and the bottom five grossing movies. Return a tuple of these sums as (top_profit_budget, bot_profit_budget, top_gross_budget, bot_gross_budget).

def most_least_profit(profitMovies):
###
### YOUR CODE HERE
###   
    tpb = profitMovies.sort_values(by='add_profit_col', ascending = False)
    bpb = profitMovies.sort_values(by = 'add_profit_col', ascending = True) 
    tgb = profitMovies.sort_values(by = 'gross', ascending = False) 
    bgb = profitMovies.sort_values(by = 'gross', ascending = True) 
    
    top_profit_budget = tpb['budget'].iloc[0] + tpb['budget'].iloc[1] + tpb['budget'].iloc[2] + tpb['budget'].iloc[3] + tpb['budget'].iloc[4] 
    bot_profit_budget = bpb['budget'].iloc[0] + bpb['budget'].iloc[1] + bpb['budget'].iloc[2] + bpb['budget'].iloc[3] + bpb['budget'].iloc[4] 
    top_gross_budget = tgb['budget'].iloc[0] + tgb['budget'].iloc[1] + tgb['budget'].iloc[2] + tgb['budget'].iloc[3] + tgb['budget'].iloc[4] 
    bot_gross_budget = bgb['budget'].iloc[0] + bgb['budget'].iloc[1] + bgb['budget'].iloc[2] + bgb['budget'].iloc[3] + bgb['budget'].iloc[4] 
    return((top_profit_budget, bot_profit_budget, top_gross_budget, bot_gross_budget))
​
    
profitMovies = add_profit_col(cleanMovies) #This function will operate on the reduced dataset
print(most_least_profit(profitMovies))  #  Should print (801000000.0, 999700000.0, 905000000.0, 5100000.0)
(801000000.0, 999700000.0, 905000000.0, 5100000.0)
/usr/local/lib/python3.6/site-packages/ipykernel_launcher.py:5: SettingWithCopyWarning: 
A value is trying to be set on a copy of a slice from a DataFrame.
Try using .loc[row_indexer,col_indexer] = value instead

See the caveats in the documentation: http://pandas.pydata.org/pandas-docs/stable/indexing.html#indexing-view-versus-copy
  """
# Code to test most_least_profit.
    
###
### AUTOGRADER TEST - DO NOT REMOVE
###
​
(e) Find the average imdb score ("imdb_score") and profit ("profit") of all movies produced by each director ("director_name").

Return a tuple (highest_imdb_avg, highest_profit_average) containing the highest of these two numbers out of all directors. Note: The director with the highest imdb score may not have the highest profit, so these top scores will likely come from different directors.

def top_directors(profitMovies):
###
### YOUR CODE HERE
### 
    topdirector = profitMovies[['director_name', 'add_profit_col', 'imdb_score']]  
    df = topdirector.sort_values(by = 'director_name')
    newDF = df.groupby('director_name').agg(['mean']) 
    sortNewDFprofit = newDF.sort_values(by = ('add_profit_col', 'mean'), ascending = False)  
    sortNewDFimdb = newDF.sort_values(by = ('imdb_score', 'mean'), ascending = False)
    #print(sortNewDFimdb.iloc[0:2]) 
    #print(sortNewDFprofit.iloc[0:2]) 
    highest_profit_avg = sortNewDFprofit[('add_profit_col', 'mean')].iloc[0] 
    highest_imdb_avg = sortNewDFimdb[('imdb_score', 'mean')].iloc[0] 
    return((highest_imdb_avg, highest_profit_avg))
​
profitMovies = add_profit_col(cleanMovies) # Correct output of this function will depend on previous functions
print(top_directors(profitMovies))  # Should print (8.6, 502177271.0)
(8.6, 502177271.0)
/usr/local/lib/python3.6/site-packages/ipykernel_launcher.py:5: SettingWithCopyWarning: 
A value is trying to be set on a copy of a slice from a DataFrame.
Try using .loc[row_indexer,col_indexer] = value instead

See the caveats in the documentation: http://pandas.pydata.org/pandas-docs/stable/indexing.html#indexing-view-versus-copy
  """
# Code to test top_directors.
    
###
### AUTOGRADER TEST - DO NOT REMOVE
###
​
(f) Fill out 'average_best_annual' to return the average gross income ("gross") of the highest rated movie ("imdb") of each year ("title_year"). The average you return should be taken over all years present in the dataset.

"Fill out 'average_best_annual' to return the average gross income ("gross") of the highest grossing movie of each year. The average you return should be taken over all years present in the data set."

def average_best_annual(profitMovies):
###
### YOUR CODE HERE
### 
    reduced = profitMovies[['gross', 'imdb_score', 'title_year']] 
    redDF = reduced.sort_values(by=['title_year', 'imdb_score'], ascending = False) 
    newDF = redDF.groupby('title_year').agg('max') 
    gross_sum = newDF['gross'].sum() 
    years = len(newDF) 
    return(gross_sum/years)
​
profitMovies = add_profit_col(cleanMovies) #This function will operate on the reduced dataset
print(average_best_annual(profitMovies))  # Should print 209984876.98387095
209984876.98387095
/usr/local/lib/python3.6/site-packages/ipykernel_launcher.py:5: SettingWithCopyWarning: 
A value is trying to be set on a copy of a slice from a DataFrame.
Try using .loc[row_indexer,col_indexer] = value instead

See the caveats in the documentation: http://pandas.pydata.org/pandas-docs/stable/indexing.html#indexing-view-versus-copy
  """
# Code to test average_best_annual.
    
###
### AUTOGRADER TEST - DO NOT REMOVE
###
​
(g) Calculate the correlation between imbd_score and profit.

def corr_score_profit(smallMovies):
###
### YOUR CODE HERE
### 
    smaller = smallMovies[['imdb_score', 'add_profit_col']] 
    correlation = smaller['imdb_score'].corr(smaller['add_profit_col']) 
    return(correlation)
​
profitMovies = add_profit_col(cleanMovies) # Correct output of this function will depend on previous functions
print(corr_score_profit(profitMovies))  # Should print 0.29881975550608025
0.2988197555060791
/usr/local/lib/python3.6/site-packages/ipykernel_launcher.py:5: SettingWithCopyWarning: 
A value is trying to be set on a copy of a slice from a DataFrame.
Try using .loc[row_indexer,col_indexer] = value instead

See the caveats in the documentation: http://pandas.pydata.org/pandas-docs/stable/indexing.html#indexing-view-versus-copy
  """
# Code to test corr_score_profit.
    
###
### AUTOGRADER TEST - DO NOT REMOVE
###
​


