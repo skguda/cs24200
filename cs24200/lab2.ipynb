Jupyter NotebookLab2 Last Checkpoint: 09/12/2020 (autosaved)Python 3 [3.6]
# Lab2
​
__Important__: you can only use the python module <code>re</code> (for regular expressions) for this lab.
File Operations and Parsing
findUniqueWords(filename) takes as input a file, and returns the tuple where the first element is the number of unique words that appear once in the file. The second element in the tuple is a list of all of the unique words sorted in decreasing lexicographic (alphabetical) order (reverse sorted order). The words should be converted to lower case and all non-alphanumeric characters should be removed before processing. The words in the input file are separated by whitespace.

def findUniqueWords(filename):
    ###
    ### YOUR CODE HERE
    ###  
    file = open(filename, 'r') 
    wlist = [] 
    for line in file: 
        lin = line.lower().split() 
        for char in lin: 
            if '.' in char: 
                char = char.replace('.', '') 
                wlist.append(char) 
            else: 
                wlist.append(char) 
     
    unique_words = [] 
    
    for word in wlist: 
        count = wlist.count(word) 
        if (count == 1): 
            unique_words.append(word)  
    
    file.close()
    
    return((len(unique_words), sorted(unique_words, reverse = True)))
    
​
    
    
print(findUniqueWords("unique_words.txt"))  # -> (4, ['middle', 'in', 'first', 'final'])
(4, ['middle', 'in', 'first', 'final'])
# Code to test findUniqueWords. 
    
###
### AUTOGRADER TEST - DO NOT REMOVE
###
​
# Code to test findUniqueWords. 
    
###
### AUTOGRADER TEST - DO NOT REMOVE
###
​
# Code to test findUniqueWords. 
    
###
### AUTOGRADER TEST - DO NOT REMOVE
###
​
Regular Expressions
You need to use the 're' package in python, for the following questions on regular expressions.

Part 1
getWords(sentence, letter) takes in a sentence and a single letter, and returns a list of the words that start and end with this letter. Make sure to remove punctuation and to account for case differences. If the string is empty for either sentence or letter, return an empty list and do the same if there are no such words that start and end with the same letter.

import re
def getWords(sentence, letter):
    ###
    ### YOUR CODE HERE
    ###    
    rec = re.compile(r"\w+") 
    tlist = re.findall(rec, sentence) 
    
    nlist = [] 
    for word in tlist: 
        if (word[0].lower() == letter.lower() and word[-1].lower() == letter.lower()): 
            nlist.append(word) 
     
    return(nlist)
​
​
​
    
s = "The TART program runs on Tuesday and Thursdays,but it does not start until next week." 
t = "T" 
u = "a"
print(getWords(s,"t"))   # -> ['TART'] 
print(getWords(t, "t")) 
print(getWords(u, 'd'))
['TART']
['T']
[]
# Code to test getWords. 
    
###
### AUTOGRADER TEST - DO NOT REMOVE
###
​
# Code to test getWords. 
    
###
### AUTOGRADER TEST - DO NOT REMOVE
###
​
# Code to test getWords 
    
###
### AUTOGRADER TEST - DO NOT REMOVE
###
​
Part 2
removeNumberWithSpace(string) takes as input a string and returns back a string that only removes numbers that have whitespace on either side or both sides of the number. Remove any leading or trailing whitespace in your final string.

import re
def removeNumberWithSpace(string):
    ###
    ### YOUR CODE HERE
    ### 
    stri = re.sub(r"(\d+\s)|(\s\d+)|(\s\d+\s)", " ", string) 
    strip = re.sub("\s\s+", " ", stri)  
    
    return(strip.strip())
​
            
        
                
    
print(removeNumberWithSpace("th2s i2 a t3st 1")) # -> th2s i a t3st 
print(removeNumberWithSpace("1234 1234")) # -> 
th2s i a t3st
1234
# Code to test removeNumberWithSpace. 
    
###
### AUTOGRADER TEST - DO NOT REMOVE
###
​
# Code to test removeNumberWithSpace. 
    
###
### AUTOGRADER TEST - DO NOT REMOVE
###
​
# Code to test removeNumberWithSpace. 
    
###
### AUTOGRADER TEST - DO NOT REMOVE
###
​
Part 3
removeMultipleSpaces(string) takes as input a string and returns back a string that replaces multiple spaces with one space.

import re
def removeMultipleSpaces(string):
    ###
    ### YOUR CODE HERE 
    ###    
    rec = re.compile(r'\s+')
    stri = rec.sub(' ', string) 
    return(stri)
          
    
print(removeMultipleSpaces("hello     world")) # -> hello world
hello world
# Code to test removeMultipleSpaces. 
    
###
### AUTOGRADER TEST - DO NOT REMOVE
###
​
# Code to test removeMultipleSpaces. 
    
###
### AUTOGRADER TEST - DO NOT REMOVE
###
​
# Code to test removeMultipleSpaces. 
    
###
### AUTOGRADER TEST - DO NOT REMOVE
###
​
Part 4
findSequence(string) takes an input string, and returns a list of all words in the string that have their first letter capitalized followed by alpha-numeric characters. The output list must be sorted in the increasing lexicographic order. You can use the 'sorted' function in python for sorting the list. If no such word is present in the given string, then the function must return 'None'.

import re
def findSequence(string):
    ###
    ### YOUR CODE HERE
    ### 
    reCap = re.compile(r"[A-Z]\w*") 
    nlist = re.findall(reCap, string) 
    nlist.sort(reverse = True) 
    
    if (len(nlist) == 0): 
        return('None') 
    else: 
        return(nlist)
​
print(findSequence("We are studying the course Introduction to Data Science.")) # -> ['We', 'Science', 'Introduction', 'Data']
print(findSequence("today is our second lab assignment"))   # -> None
['We', 'Science', 'Introduction', 'Data']
None
# Code to test findSequence. 
    
###
### AUTOGRADER TEST - DO NOT REMOVE
###
​
# Code to test findSequence. 
    
###
### AUTOGRADER TEST - DO NOT REMOVE
###
​
# Code to test findSequence. 
    
###
### AUTOGRADER TEST - DO NOT REMOVE
###
​
Part 5
commaConverter(string) takes as input a string where you have to output back a resulting string that converts all of the periods to commas with space, except if the period is at the end of the string which means you should convert it to a exclamation point. You can assume that the input will not have consecutive periods. If the string is empty, then return None

import re
def commaConverter(string):
    
    ###
    ### YOUR CODE HERE
    ###   
​
    if(len(string) == 0): 
        return('None') 
    else:    
        #rec 
        stri = re.sub('\.',',', string) 
        if (stri[len(stri)-1] == ','): 
            return(stri[:-1] + '!') 
        else: 
            return(stri) 
   
​
​
    
print(commaConverter(".hello.this.is.a.test.")) # -> ,hello,this,is,a,test!
,hello,this,is,a,test!
# Code to test commaConverter. 
    
###
### AUTOGRADER TEST - DO NOT REMOVE
###
​
# Code to test commaConverter. 
    
###
### AUTOGRADER TEST - DO NOT REMOVE
###
​
# Code to test commaConverter. 
    
###
### AUTOGRADER TEST - DO NOT REMOVE
###
​
    respace = re.compile(' ') 
    lista = re.findall(respace, string) 
    stringa = string.split(' ')  
    count = []
    for item in stringa: 
        if item not in lista: 
            count.append(item)
    
    count_word = '' 
    for i in range(len(count)): 
        if (len(count[i]) != 0): 
            if (i == (len(count) - 1)): 
                count_word += count[i] 
            else: 
                count_word += count[i] + ' ' 
    return(count_word)  
        count = "" 
        for char in string: 
            if char == '.': 
                if string[len(string) -1] == '.': 
                    count += '!' 
                else: 
                    count += ', ' 
            else: 
                count += char 
   recap = re.compile(' ') 
    nlist = re.findall(recap, string) 
    spring = string.split(' ')  
    base = ['0', '1', '2', '3', '4', '5', '6', '7', '8', '9'] 
    count = ''
    for word in spring: 
        for i in range(len(word)): 
            if (len(word) == 1): 
                if word in base: 
                    count += '' 
                else: 
                    count += word + ' '
            else:  
                if i == 0: 
                    if word[i] in base: 
                        count += ' ' 
                    else: 
                        count += word[i]  
                elif i == len(word) -1: 
                    if word[i] in base: 
                        count += ' ' 
                    else:
                        count += word[i] + ' ' 
                else: 
                    count += word[i] 
​
                
    #print(spring) 
    clist = count.split(' ') 
    #print(clist) 
    ncount = '' 
    for j in range(len(clist)): 
        if len(clist[j]) == 0: 
            ncount += '' 
        else:
            if j == len(clist) - 1: 
                ncount += clist[j] 
            else: 
                ncount += clist[j] + ' '  
                
    return(ncount.strip())    
    file = open(filename, 'r') 
    unique_words = [] 
    counter = ''
    for line in file: 
        words = line.lower().split() 
        for word in words: 
            if (word == words[len(words)-1]):
                counter += word     
            else: 
                counter += word + ' ' 
                 
    
    counter_rep = counter.replace('.', ' ')
    word_list = counter_rep.split(' ')  
    
    for word in word_list: 
        word_c = word_list.count(word)
        if (word_c == 1 and len(word) != 0): 
            unique_words.append(word)  
            
      
    sort_uw = sorted(unique_words) 
    flip = []
    for wurd in reversed(sort_uw): 
        flip.append(wurd)
    
    flength = len(unique_words) 
    file.close() 
    tups = (flength, flip) 
    
    return(tups)
    edge = []
    word_list = [] 
    letter = letter.upper() 
    if(len(sentence) == 0): 
        return(edge)  
    elif(len(sentence) == 1): 
        if (sentence.upper() == letter):
            return([sentence.upper().strip()]) 
        else: 
            return(edge)
    else:  
        count = "" 
        for char in sentence: 
            if (char.isalpha()): 
                count += char 
            else: 
                count += ' ' 
        
        count = count.upper() 
        split_string = count.split(' ')  
        
        nsplit_string = [] 
        for string in split_string: 
            if len(string) != 0 : 
                nsplit_string.append(string)  
                
        fstring = [] 
        for stri in nsplit_string: 
            if (stri[0] == letter and stri[len(stri) - 1] == letter): 
                fstring.append(stri)
        
        return(fstring)             
                

