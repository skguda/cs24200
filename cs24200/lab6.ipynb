Jupyter NotebookLab6 Last Checkpoint: 10/10/2020 (autosaved)Python 3.7
Lab 6: Random number generation in python¶
Please make sure you submit your lab before the deadline.

Important: you can only use the python packages in the first code cell for this lab.

Important: for full credit, you should not use any loops (for, while etc) to solve these problems, rather you should use methods from pandas (otherwise you will lose 25% credit even if autograde gives you full points).

Important for this lab:
None all of the questions in this lab are autograded, so make sure to follow instructions for each question.

The documentation here will be useful:

https://plotnine.readthedocs.io/en/stable/api.html

https://pandas.pydata.org/pandas-docs/stable/reference/frame.html

https://docs.scipy.org/doc/numpy-1.14.0/reference/routines.random.html

# Run this cell. You cannot use any other packages
import numpy as np
import pandas as pd
from plotnine import *
Matplotlib is building the font cache using fc-list. This may take a moment.
1
a) Use the numpy function random.normal to simulate 1000 times from the standard normal distribution (i.e. the normal distribution with mean 0 and standard deviation 1). Store the result in column x of a dataframe df (you can add columns to df to use in ggplot later if you want). Calculate the mean, standard deviation, minimum and maximum, storing them in variables mn_n01, std_n01, min_n01, max_n01.

​
​
import numpy as np
import pandas as pd  
​
###
### YOUR CODE HERE
###  
​
mu, sigma = 0, 1 # mean and standard deviation
s = np.random.normal(mu, sigma, 1000) 
myDF = pd.DataFrame(data = {'x': s}) 
mn_n01 = myDF.mean(axis = 0) 
sd_n01 = myDF.std(axis = 0) 
min_n01 = myDF.min(axis = 0) 
max_n01 = myDF.mean(axis = 0) 
​
print([mn_n01, sd_n01, min_n01, max_n01])
​
[x   -0.000132
dtype: float64, x    1.011351
dtype: float64, x   -3.66175
dtype: float64, x   -0.000132
dtype: float64]
b) Use the ggplot geom_density layer to plot the density of these points.

import numpy as np 
import pandas as pd 
import plotnine as p9 
​
###
### YOUR CODE HERE
### 
​
#mu, sigma = 0, 1 # mean and standard deviation
#s = np.random.normal(mu, sigma, 1000) 
#myDF = pd.DataFrame(data = {'x': s}) 
(p9.ggplot(myDF, p9.aes(x='x')) + p9.geom_density())
​
/home/datalib_rw/course14041/pkgs/lib/python3.5/site-packages/plotnine/scales/scale.py:93: MatplotlibDeprecationWarning: 
The iterable function was deprecated in Matplotlib 3.1 and will be removed in 3.3. Use np.iterable instead.
  if cbook.iterable(self.breaks) and cbook.iterable(self.labels):
/home/datalib_rw/course14041/pkgs/lib/python3.5/site-packages/plotnine/scales/scale.py:93: MatplotlibDeprecationWarning: 
The iterable function was deprecated in Matplotlib 3.1 and will be removed in 3.3. Use np.iterable instead.
  if cbook.iterable(self.breaks) and cbook.iterable(self.labels):
/home/datalib_rw/course14041/pkgs/lib/python3.5/site-packages/plotnine/utils.py:553: MatplotlibDeprecationWarning: 
The iterable function was deprecated in Matplotlib 3.1 and will be removed in 3.3. Use np.iterable instead.
  return cbook.iterable(var) and not is_string(var)

<ggplot: (8739831318805)>
c) Generate another 1000 samples from the normal distribution, now with mean 8 and standard deviation 3. You can store these however you like. Report the sample mean and standard deviation, minimum and maximum, and store them in variables mn_n83, std_n83 min_n83, std_n83.

import numpy as np
import pandas as pd  
​
###
### YOUR CODE HERE
###  
​
mu, sigma = 8, 3 # mean and standard deviation
s = np.random.normal(mu, sigma, 1000) 
eighty = pd.DataFrame(data = {'x': s}) 
mn_n83 = eighty.mean(axis = 0) 
std_n83 = eighty.std(axis = 0) 
min_n83 = eighty.min(axis = 0) 
max_n83 = eighty.mean(axis = 0)  
​
print([mn_n83, std_n83, min_n83, max_n83]) 
​
​
[x    7.951355
dtype: float64, x    3.032378
dtype: float64, x   -5.446608
dtype: float64, x    7.951355
dtype: float64]
d) Create a plot showing two densities, the one from part a, along with the density of the new set of points. These should be colored differently, and make sure the transparency is set to 0.3 for each of these plots.

import numpy as np 
import pandas as pd 
import plotnine as p9 
​
###
### YOUR CODE HERE
### 
​
#mu, sigma = 8, 3 # mean and standard deviation
#se = np.random.normal(mu, sigma, 1000) 
#eighty = pd.DataFrame(data = {'x': se}) 
myDF['b'] = eighty 
myDFbinom = pd.melt(myDF, value_vars=['x', 'b']) 
(p9.ggplot(myDFbinom, p9.aes(x = 'value', fill = 'variable')) + p9.geom_density(alpha = 0.3))
​
#print(myDF)
/home/datalib_rw/course14041/pkgs/lib/python3.5/site-packages/plotnine/scales/scale.py:93: MatplotlibDeprecationWarning: 
The iterable function was deprecated in Matplotlib 3.1 and will be removed in 3.3. Use np.iterable instead.
  if cbook.iterable(self.breaks) and cbook.iterable(self.labels):
/home/datalib_rw/course14041/pkgs/lib/python3.5/site-packages/plotnine/scales/scale.py:93: MatplotlibDeprecationWarning: 
The iterable function was deprecated in Matplotlib 3.1 and will be removed in 3.3. Use np.iterable instead.
  if cbook.iterable(self.breaks) and cbook.iterable(self.labels):
/home/datalib_rw/course14041/pkgs/lib/python3.5/site-packages/plotnine/utils.py:553: MatplotlibDeprecationWarning: 
The iterable function was deprecated in Matplotlib 3.1 and will be removed in 3.3. Use np.iterable instead.
  return cbook.iterable(var) and not is_string(var)
/home/datalib_rw/course14041/pkgs/lib/python3.5/site-packages/plotnine/utils.py:553: MatplotlibDeprecationWarning: 
The iterable function was deprecated in Matplotlib 3.1 and will be removed in 3.3. Use np.iterable instead.
  return cbook.iterable(var) and not is_string(var)
/home/datalib_rw/course14041/pkgs/lib/python3.5/site-packages/plotnine/utils.py:553: MatplotlibDeprecationWarning: 
The iterable function was deprecated in Matplotlib 3.1 and will be removed in 3.3. Use np.iterable instead.
  return cbook.iterable(var) and not is_string(var)

<ggplot: (8739829046733)>
2
a) Use the numpy function random.binomial to simulate 100 coin flips with a fair coin that generates 100 data points. Store the result in column a of a new dataframe binomial.

import numpy as np 
import pandas as pd 
​
n, p = 1, .5  # number of trials, probability of each trial
s = np.random.binomial(n, p, 100)
binomial = pd.DataFrame(data = {'trial':s})  
print(binomial)
​
    trial
0       1
1       1
2       0
3       0
4       1
..    ...
95      0
96      0
97      0
98      0
99      1

[100 rows x 1 columns]
b) Use the ggplot geom_density layer to plot the density of these points.

import plotnine as p9 
import numpy as np 
import pandas as pd
###
### YOUR CODE HERE
### 
​
(p9.ggplot(binomial, p9.aes(x = 'trial')) + p9.geom_density())
​
/home/datalib_rw/course14041/pkgs/lib/python3.5/site-packages/plotnine/scales/scale.py:93: MatplotlibDeprecationWarning: 
The iterable function was deprecated in Matplotlib 3.1 and will be removed in 3.3. Use np.iterable instead.
  if cbook.iterable(self.breaks) and cbook.iterable(self.labels):
/home/datalib_rw/course14041/pkgs/lib/python3.5/site-packages/plotnine/scales/scale.py:93: MatplotlibDeprecationWarning: 
The iterable function was deprecated in Matplotlib 3.1 and will be removed in 3.3. Use np.iterable instead.
  if cbook.iterable(self.breaks) and cbook.iterable(self.labels):
/home/datalib_rw/course14041/pkgs/lib/python3.5/site-packages/plotnine/utils.py:553: MatplotlibDeprecationWarning: 
The iterable function was deprecated in Matplotlib 3.1 and will be removed in 3.3. Use np.iterable instead.
  return cbook.iterable(var) and not is_string(var)

<ggplot: (8739879570465)>
c) Now, use the numpy function random.binomial to simulate 100 coin flips with a biased coin of probability 0.66 that generates 100 data points. Store the result in column b of the binomial dataframe.

import numpy as np 
import pandas as pd 
​
n, p = 1, .66  # number of trials, probability of each trial
s = np.random.binomial(n, p, 100)
binomial['b'] = pd.DataFrame(data = {'trial':s})  
print(binomial)
​
    trial  b
0       1  0
1       1  1
2       0  1
3       0  0
4       1  1
..    ... ..
95      0  1
96      0  1
97      0  0
98      0  0
99      1  1

[100 rows x 2 columns]
d) Create a plot showing these two binomial densities where they should be colored differently. Make sure the transparency is set to 0.3 for each of these plots.

import pandas as pd 
import numpy as np 
import plotnine as p9  
​
finbinom = pd.melt(binomial, value_vars=['b', 'trial']) 
(p9.ggplot(finbinom, p9.aes(x = 'value', fill = 'variable')) + p9.geom_density(alpha = 0.3))
​
/home/datalib_rw/course14041/pkgs/lib/python3.5/site-packages/plotnine/scales/scale.py:93: MatplotlibDeprecationWarning: 
The iterable function was deprecated in Matplotlib 3.1 and will be removed in 3.3. Use np.iterable instead.
  if cbook.iterable(self.breaks) and cbook.iterable(self.labels):
/home/datalib_rw/course14041/pkgs/lib/python3.5/site-packages/plotnine/scales/scale.py:93: MatplotlibDeprecationWarning: 
The iterable function was deprecated in Matplotlib 3.1 and will be removed in 3.3. Use np.iterable instead.
  if cbook.iterable(self.breaks) and cbook.iterable(self.labels):
/home/datalib_rw/course14041/pkgs/lib/python3.5/site-packages/plotnine/utils.py:553: MatplotlibDeprecationWarning: 
The iterable function was deprecated in Matplotlib 3.1 and will be removed in 3.3. Use np.iterable instead.
  return cbook.iterable(var) and not is_string(var)
/home/datalib_rw/course14041/pkgs/lib/python3.5/site-packages/plotnine/utils.py:553: MatplotlibDeprecationWarning: 
The iterable function was deprecated in Matplotlib 3.1 and will be removed in 3.3. Use np.iterable instead.
  return cbook.iterable(var) and not is_string(var)
/home/datalib_rw/course14041/pkgs/lib/python3.5/site-packages/plotnine/utils.py:553: MatplotlibDeprecationWarning: 
The iterable function was deprecated in Matplotlib 3.1 and will be removed in 3.3. Use np.iterable instead.
  return cbook.iterable(var) and not is_string(var)

<ggplot: (8739831335637)>
3: Law of Large Numbers
Consider the mean of N samples from 10,000 dice rolls. The law of large numbers says (among other things) that the mean of N samples from some distribution becomes closer and closer to the true (population) mean as N increases.

import numpy as np 
import pandas as pd
### Run this cell to create a dice data frame of 100000 dice rolls
rolls = np.random.randint(1, 7, 10000)
dice = pd.DataFrame(rolls, columns = ["rolls"])
dice.head()
rolls
0	2
1	2
2	3
3	6
4	1
a) Create a column called roll_number which is the sequence of numbers (1, 2, ..., 10000) and add that column to the dice dataframe. Then, calculate a running average of the rolls column of the dice dataframe by creating another column called 'avg'.

To calculate the running average without a for-loop, use the cumsum() method, which calculates a running sum (i.e. the mth element of data.rolls.cumsum() calculates the sum of the first m elements of column rolls). Use this running sum to get a running average.

import pandas as pd
###
### YOUR CODE HERE
###  
rol = pd.DataFrame(data = {'roll_number':range(1, 10001 ,1)})
dice['roll_number'] = rol  
join = dice.cumsum(axis = 1) 
dice['avg'] = join['roll_number'] / dice['roll_number']  
print(dice.head())
​
​
   rolls  roll_number  avg
0      2            1  3.0
1      2            2  2.0
2      3            3  2.0
3      6            4  2.5
4      1            5  1.2
b) Create a ggplot line-plot with geom_line, with the roll number on the x-axis (dice.index + 1) and 'avg' on the y-axis. This will show you how the mean evolves as you average more and more samples.

import plotnine as p9 
import pandas as pd 
###
### YOUR CODE HERE
### 
​
(p9.ggplot(dice, p9.aes(x = 'roll_number', y = 'avg')) + p9.geom_line()) 
​
​
/home/datalib_rw/course14041/pkgs/lib/python3.5/site-packages/plotnine/scales/scale.py:93: MatplotlibDeprecationWarning: 
The iterable function was deprecated in Matplotlib 3.1 and will be removed in 3.3. Use np.iterable instead.
  if cbook.iterable(self.breaks) and cbook.iterable(self.labels):
/home/datalib_rw/course14041/pkgs/lib/python3.5/site-packages/plotnine/utils.py:553: MatplotlibDeprecationWarning: 
The iterable function was deprecated in Matplotlib 3.1 and will be removed in 3.3. Use np.iterable instead.
  return cbook.iterable(var) and not is_string(var)

<ggplot: (8749988663273)>
4: Central Limit Theorem
If you add up N independent random variables, their sum will have a larger and larger spread as N increases. If you add N independent random variables and divide by N (i.e. average them), this average will usually stabilize to a number (the population mean, if it exists). This is the law of large numbers we saw earlier.

As the sample size tends to infinity, the shape of the distribution starts to resemble a bell shape (normal distribution).

a) Use a for loop to iterate through 20,000 times and create a list of samples of the binomial distribution where the probability is 0.75 and it generates 1000 data points and n is equal to 1.

Every time the binomial function is run, add the mean of that binomial distribution to a binomial sample list. The list should contain 20,000 means of 20,000 different binomial distributions. Finally, create a dataframe 'df' with one column which is that list.

import numpy as np 
import pandas as pd 
​
n, p = 1, .75  # number of trials, probability of each trial
slist = [] 
for i in range(0, 20000):
    s = np.random.binomial(n, p, 1000) 
    val = s.mean()
    slist.append(val) 
​
df = pd.DataFrame(data = {'points':slist}) 
print(df)
    
​
       points
0       0.741
1       0.762
2       0.757
3       0.748
4       0.748
...       ...
19995   0.738
19996   0.749
19997   0.745
19998   0.723
19999   0.711

[20000 rows x 1 columns]
b) Use geom_bar() to now plot the column from part a.

import plotnine as p9 
import pandas as pd
###
### YOUR CODE HERE
### 
(p9.ggplot(df, p9.aes(x = 'points'))+ p9.geom_bar())
​
/home/datalib_rw/course14041/pkgs/lib/python3.5/site-packages/plotnine/scales/scale.py:93: MatplotlibDeprecationWarning: 
The iterable function was deprecated in Matplotlib 3.1 and will be removed in 3.3. Use np.iterable instead.
  if cbook.iterable(self.breaks) and cbook.iterable(self.labels):
/home/datalib_rw/course14041/pkgs/lib/python3.5/site-packages/plotnine/scales/scale.py:93: MatplotlibDeprecationWarning: 
The iterable function was deprecated in Matplotlib 3.1 and will be removed in 3.3. Use np.iterable instead.
  if cbook.iterable(self.breaks) and cbook.iterable(self.labels):
/home/datalib_rw/course14041/pkgs/lib/python3.5/site-packages/plotnine/utils.py:553: MatplotlibDeprecationWarning: 
The iterable function was deprecated in Matplotlib 3.1 and will be removed in 3.3. Use np.iterable instead.
  return cbook.iterable(var) and not is_string(var)

<ggplot: (8749988685993)>
c) Now, repeat part a where you iterate through for loop 20,000 times, however, do it with the geometric distibution (random.geometric) where p is equal to 0.5 and size is still 10,000. Add this column to the 'df' dataframe.

import numpy as np 
import pandas as pd 
​
n, p = 1, .5  # number of trials, probability of each trial
rlist = [] 
for i in range(0, 20000):
    s = np.random.geometric(p, 1000) 
    val = s.mean()
    rlist.append(val) 
​
df['part_c'] = pd.DataFrame(data = {'part_c':rlist}) 
print(df)
​
       points  part_c
0       0.741   2.025
1       0.762   1.932
2       0.757   2.007
3       0.748   1.879
4       0.748   1.957
...       ...     ...
19995   0.738   1.986
19996   0.749   2.016
19997   0.745   2.030
19998   0.723   1.943
19999   0.711   1.945

[20000 rows x 2 columns]
​
d) Repeat part b, except this time with your new geometric column.
import plotnine as p9 
import pandas as pd
###
### YOUR CODE HERE
### 
(p9.ggplot(df, p9.aes(x = 'part_c'))+ p9.geom_bar())
/home/datalib_rw/course14041/pkgs/lib/python3.5/site-packages/plotnine/scales/scale.py:93: MatplotlibDeprecationWarning: 
The iterable function was deprecated in Matplotlib 3.1 and will be removed in 3.3. Use np.iterable instead.
  if cbook.iterable(self.breaks) and cbook.iterable(self.labels):
/home/datalib_rw/course14041/pkgs/lib/python3.5/site-packages/plotnine/scales/scale.py:93: MatplotlibDeprecationWarning: 
The iterable function was deprecated in Matplotlib 3.1 and will be removed in 3.3. Use np.iterable instead.
  if cbook.iterable(self.breaks) and cbook.iterable(self.labels):
/home/datalib_rw/course14041/pkgs/lib/python3.5/site-packages/plotnine/utils.py:553: MatplotlibDeprecationWarning: 
The iterable function was deprecated in Matplotlib 3.1 and will be removed in 3.3. Use np.iterable instead.
  return cbook.iterable(var) and not is_string(var)

<ggplot: (8749964897697)>
​

