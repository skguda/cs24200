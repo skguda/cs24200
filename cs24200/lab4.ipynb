Jupyter NotebookLab4 Last Checkpoint: 09/24/2020 (autosaved)R 3.5.1
Lab4: R File I/O¶
Important: For this lab, you will be using R instead of python. In addition, please do not use for loops.

Question 1
Use R instead of python. Read data in from a comma separated text file with header, store in data frame. Return the dimensions of the dataframe.

# readIn(filename) takes as input the file to read the data from, and returns the dimensions of the resulting dataframe
# as a vector.
​
# For example,
# filename: SAT_Participation_Demo.csv
# output: 40 6
​
readIn <- function(filename) {
​
    ###
    ### YOUR CODE HERE
    ### 
    myDF <- read.csv(filename) 
    return(dim(myDF))
}
​
readIn("SAT_Participation_Demo.csv")  # Example Output: 40 6
40 6
# Code to test File Operations. 
​
###
### AUTOGRADER TEST - DO NOT REMOVE
###
​
​
Question 2
Use R instead of python. Read data in from a comma separated text file with header, store in data frame. Remove the first three columns and convert the data to a matrix. Return the dimensions of the matrix.

# readIn_convertToMatrix(filename) takes as input the file to read the data from, removes the first three columns, 
# casts the data into a matrix and returns the dimensions of the resulting matrix as a vector.
​
# For example,
# filename: SAT_Participation_Demo.csv
# output: 40 3
​
readIn_convertToMatrix <- function(filename) {
​
    ###
    ### YOUR CODE HERE
    ### 
    myDF <- read.csv(filename) 
    newDF <- subset(myDF, select = -c(1:3)) 
    return(dim(newDF))
}
readIn_convertToMatrix("SAT_Participation_Demo.csv") # Example output: 40 3
40 3
# Code to test File Operations. 
​
###
### AUTOGRADER TEST - DO NOT REMOVE
###
​
R: Standardize feature values
Question 3
Use R instead of python. Read data in from a comma separated text file with header, store in data frame. Select the sixth column and return the median of the values.

# readIn_getMedian(filename) takes as input the file to read the data from, selects the sixth column, and 
# returns the median of the values.
​
# For example,
# filename: SAT_Participation_Demo.csv
# output: -0.5
​
readIn_getMedian <- function(filename) {
​
    ###
    ### YOUR CODE HERE
    ### 
    myDF <- read.csv(filename) 
    newDF <- subset(myDF, select = c(6))  
    return(median(newDF[,1])) 
    
        
}
​
readIn_getMedian("SAT_Participation_Demo.csv") # Example output: -0.5
-0.5
# Code to test Standardize. 
​
###
### AUTOGRADER TEST - DO NOT REMOVE
###
​
Question 4
Use R instead of python. Read data in from a comma separated text file with header, store in data frame. Select the sixth column and return the variance of the values.

# readIn_getVar(filename) takes as input the file to read the data from, selects the sixth column, and 
# returns the variance of the values.
​
# For example,
# filename: SAT_Participation_Demo.csv
# output: 438.891666666667
​
readIn_getVar <- function(filename) {
​
    ###
    ### YOUR CODE HERE
    ### 
    myDF <- read.csv(filename) 
    newDF <- subset(myDF, select = c(6))  
    return(var(newDF))
}
​
readIn_getVar("SAT_Participation_Demo.csv") # Example output: 438.891666666667
A matrix: 1 × 1 of type dbl
Test.takers..Change
Test.takers..Change	438.8917
# Code to test Standardize. 
​
###
### AUTOGRADER TEST - DO NOT REMOVE
###
​
Question 5
Use R instead of python. Read data in from a comma separated text file with header, store in data frame. Select the sixth column. Transform the values by subtracting the column mean and dividing by the column standard deviation. Return the results as a vector.

# readIn_standardize(filename) takes as input the file to read the data from, selects the sixth column, 
# standardizes the values (subtract mean, divide by std), and returns the results as a vector.
​
# For example,
# filename: SAT_Participation_Demo.csv
# output: -0.68377932189385 -0.301913033925208 -0.0155133179487261 -0.349646319921288 0.461819542012077 5.33061471361227 
## 0.509552828008157 0.318619684023836 0.652752685996398 -0.68377932189385 -1.39977861183505 -0.349646319921288 -0.58831274990169 
## -0.301913033925208 -0.540579463905609 -0.63604603589777 0.8914191159768 -0.254179747929128 0.414086256015997 -0.158713175936967 
## 0.127686540039515 0.0799532540434345 -1.16111218185465 0.509552828008157 -0.492846177909529 -0.826979179882091 -0.206446461933047 
## -0.254179747929128 0.270886398027756 0.509552828008157 -0.110979889940887 -0.110979889940887 -0.68377932189385 -0.445112891913449 
## -0.0155133179487261 -0.445112891913449 0.127686540039515 0.414086256015997 0.127686540039515 0.270886398027756
​
readIn_standardize <- function(filename) {
​
    ###
    ### YOUR CODE HERE
    ### 
    myDF <- read.csv(filename) 
    newDF <- subset(myDF, select = c(6))
    colMean <- mean(newDF[,1])
    colSD <- sd(newDF[,1])  
    vec <- c((newDF - colMean) / colSD) 
    return(unlist(vec))
    
​
​
    
}
​
readIn_standardize("SAT_Participation_Demo.csv")
​
# Example output: -0.68377932189385 -0.301913033925208 -0.0155133179487261 -0.349646319921288 0.461819542012077 5.33061471361227 
## 0.509552828008157 0.318619684023836 0.652752685996398 -0.68377932189385 -1.39977861183505 -0.349646319921288 -0.58831274990169 
## -0.301913033925208 -0.540579463905609 -0.63604603589777 0.8914191159768 -0.254179747929128 0.414086256015997 -0.158713175936967 
## 0.127686540039515 0.0799532540434345 -1.16111218185465 0.509552828008157 -0.492846177909529 -0.826979179882091 -0.206446461933047 
## -0.254179747929128 0.270886398027756 0.509552828008157 -0.110979889940887 -0.110979889940887 -0.68377932189385 -0.445112891913449 
## -0.0155133179487261 -0.445112891913449 0.127686540039515 0.414086256015997 0.127686540039515 0.270886398027756
Test.takers..Change1
-0.68377932189385
Test.takers..Change2
-0.301913033925208
Test.takers..Change3
-0.0155133179487261
Test.takers..Change4
-0.349646319921288
Test.takers..Change5
0.461819542012077
Test.takers..Change6
5.33061471361227
Test.takers..Change7
0.509552828008157
Test.takers..Change8
0.318619684023836
Test.takers..Change9
0.652752685996398
Test.takers..Change10
-0.68377932189385
Test.takers..Change11
-1.39977861183505
Test.takers..Change12
-0.349646319921288
Test.takers..Change13
-0.58831274990169
Test.takers..Change14
-0.301913033925208
Test.takers..Change15
-0.540579463905609
Test.takers..Change16
-0.63604603589777
Test.takers..Change17
0.8914191159768
Test.takers..Change18
-0.254179747929128
Test.takers..Change19
0.414086256015997
Test.takers..Change20
-0.158713175936967
Test.takers..Change21
0.127686540039515
Test.takers..Change22
0.0799532540434345
Test.takers..Change23
-1.16111218185465
Test.takers..Change24
0.509552828008157
Test.takers..Change25
-0.492846177909529
Test.takers..Change26
-0.826979179882091
Test.takers..Change27
-0.206446461933047
Test.takers..Change28
-0.254179747929128
Test.takers..Change29
0.270886398027756
Test.takers..Change30
0.509552828008157
Test.takers..Change31
-0.110979889940887
Test.takers..Change32
-0.110979889940887
Test.takers..Change33
-0.68377932189385
Test.takers..Change34
-0.445112891913449
Test.takers..Change35
-0.0155133179487261
Test.takers..Change36
-0.445112891913449
Test.takers..Change37
0.127686540039515
Test.takers..Change38
0.414086256015997
Test.takers..Change39
0.127686540039515
Test.takers..Change40
0.270886398027756
# Code to test Standardize. 
​
###
### AUTOGRADER TEST - DO NOT REMOVE
###
​
R: Select data
Question 6
Use R instead of python. Read data in from a comma separated text file with header, store in data frame. Check if there are any examples for which the values of the 4th and 5th attributes are equal. Return the result as a boolean value.

# readIn_compare(filename) takes as input the file to read the data from, and checks if there is any example for which 
# the values of the 4th and 5th attributes are equal, and returns the output as a boolean value.
​
# For example,
# filename: SAT_Participation_Demo.csv
# output: TRUE
​
readIn_compare <- function(filename) {
​
    ###
    ### YOUR CODE HERE
    ### 
    myDF <- read.csv(filename) 
    newDF <- subset(myDF, select = c(4,5))  
    total <- mean(newDF[,1] == newDF[,2])
    if (total > 0) {
        return(TRUE)
    } else {
        return(FALSE)
    }
}
​
readIn_compare("SAT_Participation_Demo.csv") # Example output: TRUE
TRUE
# Code to test Select 
​
###
### AUTOGRADER TEST - DO NOT REMOVE
###
​
Question 7
Use R instead of python. Read data in from a comma separated text file with header, store in data frame. Count the number of examples where the value of the 4th attribute is smaller than that of the 5th attribute. Return the count.

# readIn_Count(filename) takes as input the file to read the data from, and returns the number of examples where the 
# value of the 4th attribute is smaller than that of the 5th attribute.
​
# For example,
# filename: SAT_Participation_Demo.csv
# output: 18
​
readIn_Count <- function(filename) {
​
    ###
    ### YOUR CODE HERE
    ### 
    myDF <- read.csv(filename) 
    newDF <- subset(myDF, select = c(4,5))   
    newDF['diff'] <- newDF[,1]-newDF[,2] 
    newerDF <- newDF[,3] 
    return(sum(newDF < 0)) 
    
​
}
​
readIn_Count("SAT_Participation_Demo.csv") # Example output: 18
18
# Code to test Select 
​
###
### AUTOGRADER TEST - DO NOT REMOVE
###
​
Question 8
Use R instead of python. Read data in from a comma separated text file with header, store in data frame. Compare the values of the 4th and 5th attributes, select the set of examples where the 4th attribute value is smaller. From the selected subset, find the sum of their values for the 6th attribute. Return the sum.

# readIn_select(filename) takes as input the file to read the text from, and selects the examples where the value of 
# the 4th attribute is smaller than the 5th. From the sample, it sums the values of the sixth attribute and returns 
# the result.
​
# For example,
# filename: SAT_Participation_Demo.csv
# output: 272
​
readIn_select <- function(filename) {
​
    ###
    ### YOUR CODE HERE
    ### 
    myDF <- read.csv(filename) 
    newDF <- subset(myDF, select = c(4,5,6)) 
 #  newerDF <- newDF[newDF[,1] < newDF[,2]]]
#    return(newDF) 
    newerDF <- newDF[((newDF[,1] - newDF[,2]) < 0),]
    return(sum(newerDF[,3]))
​
    
    
}
​
readIn_select("SAT_Participation_Demo.csv") # Example output: 272
272
# Code to test Select 
​
###
### AUTOGRADER TEST - DO NOT REMOVE
###
​

