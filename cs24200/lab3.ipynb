Jupyter NotebookLab3 Last Checkpoint: 09/19/2020 (autosaved)Python 3 [3.6]
​
# Lab 3: Data Manipulation
​
__Important__: you can only use the python packages numpy, math and pandas for this lab.
​
__Important__: _for full credit, you should not use any loops (for, while etc) to solve these problems, rather you should use methods from pandas (otherwise you will lose 25% credit even if autograde gives you full points)._
# Import Statements
import pandas as pd
import numpy as np
import math
Q1
Write a function (medianMovieRating(filename)) to read in data from the input CSV file, find the median movie rating score for the 4 movie review columns (Rotten Tomatoes, IMDb, Metacritic, Google Review) and return a dictionary of length 4 where the keys are the columns in the order they are listed in the CSV and their values are their respective median score.

import pandas as pd
def medianMovieRating(filename):
    ###
    ### YOUR CODE HERE
    ###
    data = pd.read_csv(filename) 
    moviedict = {} 
    #print(data)
    moviedict['Rotten Tomatoes Review'] = data['Rotten Tomatoes Review'].median() 
    moviedict['IMDb Review'] = data['IMDb Review'].median()
    moviedict['Metacritic Review'] = data['Metacritic Review'].median() 
    moviedict['Google Review'] = data['Google Review'].median() 
    return(moviedict)
print(medianMovieRating("movie_reviews.csv"))   
# -> {'Rotten Tomatoes Review': 0.93, 'IMDb Review': 0.85, 'Metacritic Review': 0.87, 'Google Review': 0.93}
{'Rotten Tomatoes Review': 0.93, 'IMDb Review': 0.85, 'Metacritic Review': 0.87, 'Google Review': 0.93}
###
### AUTOGRADER TEST - DO NOT REMOVE
###
​
Q2, Part 1
Write a function (meanRating(filename)) to read in data from the input csv file, and for each given movie (row), find the mean rating of the four reviews and create a new column called "Mean Rating" with those mean values. Finally, return the new dataframe.

import pandas as pd
def meanRating(filename):
    ###
    ### YOUR CODE HERE
    ### 
    data = pd.read_csv(filename)  
    ratings = data[['Rotten Tomatoes Review', 'IMDb Review', 'Metacritic Review', 'Google Review']]
    average = ratings.mean(axis = 1)
    data['Mean Rating'] = average 
    return(data) 
    #example
​
print(meanRating("movie_reviews.csv"))
​
# Output of only the Mean Rating Column (Make sure to return the new full dataframe):
​
#     Mean Rating  
​
#             0.8225  
#             0.9275  
#             0.9125  
#             0.9150  
#             0.8975  
#             0.9075  
#             0.8350  
#             0.9125  
#             0.9000  
#             0.9075  
#             0.8025  
#             0.9250  
#             0.8925  
#             0.7150  
#             0.8125
                                    Movie  Year Released  \
0                                  Avatar           2009   
1                                Parasite           2019   
2                        12 Years a Slave           2013   
3                             Ratatouille           2007   
4                The Shawshank Redemption           1994   
5                         The Dark Knight           2008   
6                            Forrest Gump           1994   
7                     Saving Private Ryan           1998   
8                           The Lion King           1994   
9                      Back to the Future           1985   
10                              Gladiator           2000   
11                              Toy Story           1995   
12                                     Up           2009   
13  Anchorman: The Legend of Ron Burgundy           2004   
14                             Fight Club           1999   

    Rotten Tomatoes Review  IMDb Review  Metacritic Review  Google Review  \
0                     0.82         0.78               0.83           0.86   
1                     0.99         0.86               0.96           0.90   
2                     0.95         0.81               0.96           0.93   
3                     0.96         0.80               0.96           0.94   
4                     0.90         0.93               0.80           0.96   
5                     0.94         0.90               0.84           0.95   
6                     0.70         0.88               0.82           0.94   
7                     0.93         0.86               0.91           0.95   
8                     0.93         0.85               0.88           0.94   
9                     0.96         0.85               0.87           0.95   
10                    0.77         0.85               0.67           0.92   
11                    1.00         0.83               0.95           0.92   
12                    0.98         0.82               0.88           0.89   
13                    0.66         0.72               0.63           0.85   
14                    0.79         0.88               0.66           0.92   

    Mean Rating  
0        0.8225  
1        0.9275  
2        0.9125  
3        0.9150  
4        0.8975  
5        0.9075  
6        0.8350  
7        0.9125  
8        0.9000  
9        0.9075  
10       0.8025  
11       0.9250  
12       0.8925  
13       0.7150  
14       0.8125  
###
### AUTOGRADER TEST - DO NOT REMOVE
###
​
Q2, Part 2
Write a function (sortMean(filename)) where you take the data frame with the mean rating column and sort the data frame based on the mean rating in descending order. Finally, return the movies in a list from best mean-rated movie to worst mean-rated movie.

import pandas as pd
def sortMean(filename):
    ###
    ### YOUR CODE HERE
    ### 
    data = pd.read_csv(filename) 
    ratings = data[['Rotten Tomatoes Review', 'IMDb Review', 'Metacritic Review', 'Google Review']]
    average = ratings.mean(axis = 1)
    data['Mean Rating'] = average  
    movieRatings = data[['Movie', 'Mean Rating']] 
    nmovieRate = movieRatings.sort_values(by='Mean Rating', ascending=False) 
    return(list(nmovieRate['Movie']))
    
    
# Example Output
print(sortMean("movie_reviews.csv"))
​
# -> ['Parasite', 
#    'Toy Story', 
#    'Ratatouille',
#    'Saving Private Ryan',
#    '12 Years a Slave', 
#    'The Dark Knight',
#    'Back to the Future',
#    'The Lion King', 
#    'The Shawshank Redemption', 
#    'Up', 
#    'Forrest Gump', 
#    'Avatar', 
#    'Fight Club', 
#    'Gladiator', 
#    'Anchorman: The Legend of Ron Burgundy']
['Parasite', 'Toy Story', 'Ratatouille', 'Saving Private Ryan', '12 Years a Slave', 'The Dark Knight', 'Back to the Future', 'The Lion King', 'The Shawshank Redemption', 'Up', 'Forrest Gump', 'Avatar', 'Fight Club', 'Gladiator', 'Anchorman: The Legend of Ron Burgundy']
###
### AUTOGRADER TEST - DO NOT REMOVE
###
​
Q3, Part 1
Write a function rubric(value) that as input 'value' and returns a 'grade' as follows:

If value >= .90, grade = 'A';

If value >= .80, grade = 'B';

If value >= .70, grade = 'C';

Otherwise, grade = 'D'.

def rubric(value):
    ###
    ### YOUR CODE HERE
    ###
    if value >= 0.90: 
        return('A') 
    elif value >= 0.80: 
        return('B') 
    elif value >= 0.70:
        return('C') 
    else: 
        return('D')
​
# Examples
print(rubric(.95))  # -> 'A'
print(rubric(.80)) # -> 'B'
A
B
###
### AUTOGRADER TEST - DO NOT REMOVE
###
​
Q3, Part 2
Write a function assignGrade(filename) that uses the rubric function to apply grades to the movies for the 'IMDb Review' column. Return the list of grades and the order of the grades should be in the order of the rows given in the file.

import pandas as pd
def assignGrade(filename):
    
    ###
    ### YOUR CODE HERE
    ###  
    data = pd.read_csv(filename) 
    imdb = data['IMDb Review']
    
    #x = imdb.apply(lambda x: rubric(x)) 
    #print(x)
    #flist = [] 
    #x.to_list(flist)
    review = (imdb).apply(rubric) 
    return list(review)
    
# Example
print(assignGrade("movie_reviews.csv"))
# -> ['C', 'B', 'B', 'B', 'A', 'A', 'B', 'B', 'B', 'B', 'B', 'B', 'B', 'C', 'B']
['C', 'B', 'B', 'B', 'A', 'A', 'B', 'B', 'B', 'B', 'B', 'B', 'B', 'C', 'B']
###
### AUTOGRADER TEST - DO NOT REMOVE
###
​
Q3, Part 3
Write a function (findAGrades(filename)) using the rubric function again to return a list of the number of 'A' grades in each review column. Make sure that the order of the list should be in the order of the review columns in the file.

import pandas as pd
def findAGrades(filename):
    ###
    ### YOUR CODE HERE
    ### 
    data = pd.read_csv(filename) 
    tomato = list((data['Rotten Tomatoes Review']).apply(rubric))
    imdb = list((data['IMDb Review']).apply(rubric))
    metacritic = list((data['Metacritic Review']).apply(rubric)) 
    google = list((data['Google Review']).apply(rubric)) 
    
    final = [tomato.count('A'), imdb.count('A'), metacritic.count('A'), google.count('A')] 
    return(final)
    
# Example
print(findAGrades("movie_reviews.csv"))
# -> [10, 2, 5, 12]
[10, 2, 5, 12]
###
### AUTOGRADER TEST - DO NOT REMOVE
###
​

