Jupyter NotebookLab5 Last Checkpoint: 10/07/2020 (autosaved)Python 3.7
Lab 5: The grammar of graphics via plotnine¶
Important: you can only use the python packages in the first code cell for this lab.

Important: for full credit, you should not use any loops (for, while etc) to solve these problems, rather you should use methods from pandas (otherwise you will lose 25% credit even if autograde gives you full points).

Important for this lab:

None of the questions in this lab are autograded, so make sure your plots are properly labeled and follow the instructions of each question.

The documentation here will be useful:

https://plotnine.readthedocs.io/en/stable/api.html

https://pandas.pydata.org/pandas-docs/stable/reference/series.html

https://pandas.pydata.org/pandas-docs/stable/reference/frame.html

import numpy as np
import pandas as pd
import plotnine
Q1 (2pts)
The file global_temp.csv in Vocareum (obtained from https://github.com/datasets/global-temp) contains recordings of the average global temperature per year from 2 different sources.

Plot the series of temperatures as a line graph in ggplot, with measurements from each source a differently colored line. Set the width of the lines to 1.5 using the parameter 'size'. Use the following annotations for the plot:

Title of the plot: "Average Global Temperature in ºC per Year"
X axis: "Year"
Y axis: "Temperature (ºC)"
import numpy as np
import pandas as pd
import plotnine as p9 
​
temp = pd.read_csv('global_temp.csv')   
#print(temp)
myplot = p9.ggplot(data=temp, mapping=p9.aes(x='Year', y='Mean', color='Source')) + p9.geom_line(size = 1.5) + p9.labs(x='Years', y='Temperature (ºC)') + p9.ggtitle('Average Global Temperature in ºC per Year')
#print(data) 
print(myplot)
​
/home/datalib_rw/course14041/pkgs/lib/python3.5/site-packages/plotnine/scales/scale.py:93: MatplotlibDeprecationWarning: 
The iterable function was deprecated in Matplotlib 3.1 and will be removed in 3.3. Use np.iterable instead.
  if cbook.iterable(self.breaks) and cbook.iterable(self.labels):
/home/datalib_rw/course14041/pkgs/lib/python3.5/site-packages/plotnine/utils.py:553: MatplotlibDeprecationWarning: 
The iterable function was deprecated in Matplotlib 3.1 and will be removed in 3.3. Use np.iterable instead.
  return cbook.iterable(var) and not is_string(var)
/home/datalib_rw/course14041/pkgs/lib/python3.5/site-packages/plotnine/utils.py:553: MatplotlibDeprecationWarning: 
The iterable function was deprecated in Matplotlib 3.1 and will be removed in 3.3. Use np.iterable instead.
  return cbook.iterable(var) and not is_string(var)

<ggplot: (8780135358885)>
###
### YOUR CODE HERE
###
​

<ggplot: (8730070222947)>
Q2 (2+2+2+2)
Read in data from the file "housing.csv".

1) Plot 1: Create a scatterplot showing Sqft on the x-axis, and Price on the y-axis. Use the following annotations for the plot:

Title of the plot: "Visualization of House prices"
X axis: "Area in square feet"
Y axis: "Price per square foot".
Set the size of the points to a value of 3.

import pandas as pd 
import numpy as np 
import plotnine as p9 
​
house = pd.read_csv('housing.csv') 
#(p9.ggplot(data=house, mapping=p9.aes(x='Sqft', y='Price')) + p9.geom_point(alpha = 3.0, color = 'black') + p9.labs(x='Area in square feet', y='Price per square foot') + p9.ggtitle('Visualization of House prices'))
#print(house) 
myplot = p9.ggplot(house, p9.aes(x='Sqft', y='Price')) + p9.geom_point(size = 3.0, color = 'black') + p9.labs(x='Area in square feet', y='Price per square foot') + p9.ggtitle('Visualization of House prices') 
print(myplot)
/home/datalib_rw/course14041/pkgs/lib/python3.5/site-packages/plotnine/scales/scale.py:93: MatplotlibDeprecationWarning: 
The iterable function was deprecated in Matplotlib 3.1 and will be removed in 3.3. Use np.iterable instead.
  if cbook.iterable(self.breaks) and cbook.iterable(self.labels):
/home/datalib_rw/course14041/pkgs/lib/python3.5/site-packages/plotnine/utils.py:553: MatplotlibDeprecationWarning: 
The iterable function was deprecated in Matplotlib 3.1 and will be removed in 3.3. Use np.iterable instead.
  return cbook.iterable(var) and not is_string(var)

<ggplot: (8780160357301)>
###
### YOUR CODE HERE
###
​

<ggplot: (8731125257031)>
2) Plot 2: Repeat the above, now with the color and size of the circles controlled by Location and Baths respectively. Set the transparency of the circles to 0.6

import pandas as pd 
import numpy as np 
import plotnine as p9 
​
house = pd.read_csv('housing.csv') 
myplot = p9.ggplot(house, p9.aes(x='Sqft', y='Price', size = 'Baths', color = 'Location')) + p9.geom_point(alpha = 0.6) + p9.labs(x='Area in square feet', y='Price per square foot') + p9.ggtitle('Visualization of House prices') 
#print(house) 
print(myplot)
/home/datalib_rw/course14041/pkgs/lib/python3.5/site-packages/plotnine/scales/scale.py:93: MatplotlibDeprecationWarning: 
The iterable function was deprecated in Matplotlib 3.1 and will be removed in 3.3. Use np.iterable instead.
  if cbook.iterable(self.breaks) and cbook.iterable(self.labels):
/home/datalib_rw/course14041/pkgs/lib/python3.5/site-packages/plotnine/utils.py:553: MatplotlibDeprecationWarning: 
The iterable function was deprecated in Matplotlib 3.1 and will be removed in 3.3. Use np.iterable instead.
  return cbook.iterable(var) and not is_string(var)
/home/datalib_rw/course14041/pkgs/lib/python3.5/site-packages/plotnine/utils.py:553: MatplotlibDeprecationWarning: 
The iterable function was deprecated in Matplotlib 3.1 and will be removed in 3.3. Use np.iterable instead.
  return cbook.iterable(var) and not is_string(var)

<ggplot: (8780159971521)>
###
### YOUR CODE HERE
###
​

<ggplot: (8731125134575)>
3) Plot 3: Create a histogram showing the distribution of the values in the 'Price' column. Notice that the histogram (and the earlier scatterplot) indicates the data may have an outlier. Explore the impact of the number of bins on the ability to see the outlier. Print the minimum value of the number of bins when the outlier is first visible. Plot a histogram using this minimum number of bins.

import pandas as pd 
import numpy as np 
import plotnine as p9 
​
house = pd.read_csv('housing.csv') 
myplot = p9.ggplot(house, p9.aes(x='Price'))+ p9.geom_histogram(bins = 4) + p9.ggtitle('Histogram of Price with Outlier') 
print(myplot)
/home/datalib_rw/course14041/pkgs/lib/python3.5/site-packages/plotnine/scales/scale.py:93: MatplotlibDeprecationWarning: 
The iterable function was deprecated in Matplotlib 3.1 and will be removed in 3.3. Use np.iterable instead.
  if cbook.iterable(self.breaks) and cbook.iterable(self.labels):
/home/datalib_rw/course14041/pkgs/lib/python3.5/site-packages/plotnine/scales/scale.py:93: MatplotlibDeprecationWarning: 
The iterable function was deprecated in Matplotlib 3.1 and will be removed in 3.3. Use np.iterable instead.
  if cbook.iterable(self.breaks) and cbook.iterable(self.labels):
/home/datalib_rw/course14041/pkgs/lib/python3.5/site-packages/plotnine/utils.py:553: MatplotlibDeprecationWarning: 
The iterable function was deprecated in Matplotlib 3.1 and will be removed in 3.3. Use np.iterable instead.
  return cbook.iterable(var) and not is_string(var)

<ggplot: (8780135545053)>
###
### YOUR CODE HERE
###
​

<ggplot: (-9223363305729723767)>
4) Plot 4: Remove the outlier (i.e., maximum value) from the 'Price' column and plot a boxplot of prices, one of each value of Location. Set the linewidth of the boxplots to 2, and fill them with the color 'crimson'.

import pandas as pd 
import numpy as np 
import plotnine as p9 
​
house = pd.read_csv('housing.csv') 
#house = house[house.between(house.quantile(.15), house.quantile(.85))]
#(p9.ggplot(house, p9.aes(x='Price'))+ p9.geom_histogram()) 
#(p9.ggplot(house) + p9.geom_boxplot(p9.aes(x='Location', y='Price') + p9.geom_boxplot(p9.aes(fill = 'crimson')))) 
#patch.set_facecolor('crimson')    
​
#q_low = house["Price"].quantile(0.01)
q_hi  = house["Price"].quantile(0.99)
​
house = house[(house["Price"] < q_hi)] #& (house["Price"] > q_low)]
​
myplot = p9.ggplot(house, p9.aes('Location', 'Price'))+ p9.geom_boxplot(fill="crimson", size = 2) + p9.ylim(house['Price'].min(), house['Price'].max()) #+ p9.xlab("Location") + p9.ylab("Price") + p9.ylim(0, house['Price'].quantile(0.90))) #+ p9.ggtitle("Price of diamonds by cut")
print(myplot)
/home/datalib_rw/course14041/pkgs/lib/python3.5/site-packages/plotnine/scales/scale.py:93: MatplotlibDeprecationWarning: 
The iterable function was deprecated in Matplotlib 3.1 and will be removed in 3.3. Use np.iterable instead.
  if cbook.iterable(self.breaks) and cbook.iterable(self.labels):
/home/datalib_rw/course14041/pkgs/lib/python3.5/site-packages/plotnine/stats/stat_boxplot.py:86: FutureWarning: is_categorical is deprecated and will be removed in a future version.  Use is_categorical_dtype instead
  if pdtypes.is_categorical(data['x']):
/home/datalib_rw/course14041/pkgs/lib/python3.5/site-packages/plotnine/utils.py:69: MatplotlibDeprecationWarning: 
The iterable function was deprecated in Matplotlib 3.1 and will be removed in 3.3. Use np.iterable instead.
  if cbook.iterable(val) and not is_string(val):
/home/datalib_rw/course14041/pkgs/lib/python3.5/site-packages/plotnine/utils.py:553: MatplotlibDeprecationWarning: 
The iterable function was deprecated in Matplotlib 3.1 and will be removed in 3.3. Use np.iterable instead.
  return cbook.iterable(var) and not is_string(var)
/home/datalib_rw/course14041/pkgs/lib/python3.5/site-packages/plotnine/utils.py:553: MatplotlibDeprecationWarning: 
The iterable function was deprecated in Matplotlib 3.1 and will be removed in 3.3. Use np.iterable instead.
  return cbook.iterable(var) and not is_string(var)
/home/datalib_rw/course14041/pkgs/lib/python3.5/site-packages/plotnine/utils.py:553: MatplotlibDeprecationWarning: 
The iterable function was deprecated in Matplotlib 3.1 and will be removed in 3.3. Use np.iterable instead.
  return cbook.iterable(var) and not is_string(var)
/home/datalib_rw/course14041/pkgs/lib/python3.5/site-packages/plotnine/utils.py:553: MatplotlibDeprecationWarning: 
The iterable function was deprecated in Matplotlib 3.1 and will be removed in 3.3. Use np.iterable instead.
  return cbook.iterable(var) and not is_string(var)
/home/datalib_rw/course14041/pkgs/lib/python3.5/site-packages/plotnine/utils.py:553: MatplotlibDeprecationWarning: 
The iterable function was deprecated in Matplotlib 3.1 and will be removed in 3.3. Use np.iterable instead.
  return cbook.iterable(var) and not is_string(var)
/home/datalib_rw/course14041/pkgs/lib/python3.5/site-packages/plotnine/utils.py:553: MatplotlibDeprecationWarning: 
The iterable function was deprecated in Matplotlib 3.1 and will be removed in 3.3. Use np.iterable instead.
  return cbook.iterable(var) and not is_string(var)
/home/datalib_rw/course14041/pkgs/lib/python3.5/site-packages/plotnine/utils.py:553: MatplotlibDeprecationWarning: 
The iterable function was deprecated in Matplotlib 3.1 and will be removed in 3.3. Use np.iterable instead.
  return cbook.iterable(var) and not is_string(var)

<ggplot: (8780135690393)>
###
### YOUR CODE HERE
###
​

<ggplot: (-9223363305729712864)>
Q3 (3+4)
Read in data from the file "cars_information.csv".

1) We want to look at the relation between hp, and mpg for each setting of the column am (automatic or manual). Create a scatter plot of hp (x-axis) vs mpg (on the y-axis), each point colored differently according to the value of am. For each setting of am, also plot a straight line with error bars (using geom_smooth) (also colored differently according to am).

import pandas as pd 
import numpy as np 
import plotnine as p9  
​
cars = pd.read_csv('cars_information.csv') 
myplot = p9.ggplot(cars, p9.aes(x = 'hp', y='mpg', color = 'factor(am)')) + p9.geom_point() + p9.labs(x='hp', y='mpg') + p9.geom_smooth(method = 'lm') #p9.scales.ylim(0, cars['mpg'].max())) 
print(myplot)
/home/datalib_rw/course14041/pkgs/lib/python3.5/site-packages/plotnine/scales/scale.py:93: MatplotlibDeprecationWarning: 
The iterable function was deprecated in Matplotlib 3.1 and will be removed in 3.3. Use np.iterable instead.
  if cbook.iterable(self.breaks) and cbook.iterable(self.labels):
/home/datalib_rw/course14041/pkgs/lib/python3.5/site-packages/plotnine/utils.py:553: MatplotlibDeprecationWarning: 
The iterable function was deprecated in Matplotlib 3.1 and will be removed in 3.3. Use np.iterable instead.
  return cbook.iterable(var) and not is_string(var)
/home/datalib_rw/course14041/pkgs/lib/python3.5/site-packages/plotnine/utils.py:553: MatplotlibDeprecationWarning: 
The iterable function was deprecated in Matplotlib 3.1 and will be removed in 3.3. Use np.iterable instead.
  return cbook.iterable(var) and not is_string(var)
/home/datalib_rw/course14041/pkgs/lib/python3.5/site-packages/plotnine/utils.py:553: MatplotlibDeprecationWarning: 
The iterable function was deprecated in Matplotlib 3.1 and will be removed in 3.3. Use np.iterable instead.
  return cbook.iterable(var) and not is_string(var)
/home/datalib_rw/course14041/pkgs/lib/python3.5/site-packages/plotnine/utils.py:553: MatplotlibDeprecationWarning: 
The iterable function was deprecated in Matplotlib 3.1 and will be removed in 3.3. Use np.iterable instead.
  return cbook.iterable(var) and not is_string(var)
/home/datalib_rw/course14041/pkgs/lib/python3.5/site-packages/plotnine/utils.py:553: MatplotlibDeprecationWarning: 
The iterable function was deprecated in Matplotlib 3.1 and will be removed in 3.3. Use np.iterable instead.
  return cbook.iterable(var) and not is_string(var)
/home/datalib_rw/course14041/pkgs/lib/python3.5/site-packages/plotnine/utils.py:553: MatplotlibDeprecationWarning: 
The iterable function was deprecated in Matplotlib 3.1 and will be removed in 3.3. Use np.iterable instead.
  return cbook.iterable(var) and not is_string(var)

<ggplot: (8780135358769)>
###
### YOUR CODE HERE
###
​

<ggplot: (8731125039224)>
2) Next, we want to simultaneously look at the relation between mpg (x-axis), and disp and hp (both on the y-axis). Create a plot with two facets, side by side in a single row. Both have mpg on the x-axis. The left facet has disp on the y-axis, and the right has hp on the y-axis. In each of these facets, we want the same two layers as before: a scatter plot and a straight line using geom_smooth.

Hint: you will have to use the melt() method to concatenate the values in columns disp and hp into a single column. Melt should also create a second column indicating if that value is disp or hp. The value of the second column will tell ggplot which facet this belongs to (see the slides).

import pandas as pd 
import numpy as np 
import plotnine as p9  
​
cars = pd.read_csv('cars_information.csv')  
#a = (p9.ggplot(cars, p9.aes(x = 'mpg', y='hp')) + p9.geom_point() + p9.geom_smooth(method = 'lm') + p9.labs(x='mpg', y='hp'))  
#p9.scales.ylim(0, cars['mpg'].max())) 
#b = (p9.ggplot(cars, p9.aes(x = 'mpg', y='disp')) + p9.geom_point() + p9.geom_smooth(method = 'lm') + p9.labs(x='mpg', y='disp')) 
#(p9.melt(b,a)) 
​
cars = pd.melt(cars, id_vars=['mpg'], value_vars=['disp', 'hp']) 
myplot = p9.ggplot(cars, p9.aes('mpg', 'value')) + p9.geom_point() + p9.geom_smooth(method = 'lm') + p9.facet_wrap('variable')
print(myplot)
/home/datalib_rw/course14041/pkgs/lib/python3.5/site-packages/plotnine/scales/scale.py:93: MatplotlibDeprecationWarning: 
The iterable function was deprecated in Matplotlib 3.1 and will be removed in 3.3. Use np.iterable instead.
  if cbook.iterable(self.breaks) and cbook.iterable(self.labels):
/home/datalib_rw/course14041/pkgs/lib/python3.5/site-packages/plotnine/utils.py:553: MatplotlibDeprecationWarning: 
The iterable function was deprecated in Matplotlib 3.1 and will be removed in 3.3. Use np.iterable instead.
  return cbook.iterable(var) and not is_string(var)
/home/datalib_rw/course14041/pkgs/lib/python3.5/site-packages/plotnine/utils.py:553: MatplotlibDeprecationWarning: 
The iterable function was deprecated in Matplotlib 3.1 and will be removed in 3.3. Use np.iterable instead.
  return cbook.iterable(var) and not is_string(var)
/home/datalib_rw/course14041/pkgs/lib/python3.5/site-packages/plotnine/utils.py:553: MatplotlibDeprecationWarning: 
The iterable function was deprecated in Matplotlib 3.1 and will be removed in 3.3. Use np.iterable instead.
  return cbook.iterable(var) and not is_string(var)
/home/datalib_rw/course14041/pkgs/lib/python3.5/site-packages/plotnine/utils.py:553: MatplotlibDeprecationWarning: 
The iterable function was deprecated in Matplotlib 3.1 and will be removed in 3.3. Use np.iterable instead.
  return cbook.iterable(var) and not is_string(var)
/home/datalib_rw/course14041/pkgs/lib/python3.5/site-packages/plotnine/utils.py:553: MatplotlibDeprecationWarning: 
The iterable function was deprecated in Matplotlib 3.1 and will be removed in 3.3. Use np.iterable instead.
  return cbook.iterable(var) and not is_string(var)
/home/datalib_rw/course14041/pkgs/lib/python3.5/site-packages/plotnine/utils.py:553: MatplotlibDeprecationWarning: 
The iterable function was deprecated in Matplotlib 3.1 and will be removed in 3.3. Use np.iterable instead.
  return cbook.iterable(var) and not is_string(var)

<ggplot: (8780135658877)>
###
### YOUR CODE HERE
###
​

<ggplot: (-9223363305729712773)>

