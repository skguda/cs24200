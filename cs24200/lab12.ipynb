Jupyter NotebookLab12 Last Checkpoint: Last Tuesday at 2:37 AM (autosaved)Python 3.5
Python 3.5 
File
Edit
View
Insert
Cell
Kernel
Widgets
Help

Markdown
Lab 12: Relational Databases + Queries¶
Use the given database chinook.db for this assignment. It contains the following 11 tables:

artists
albums
tracks
playlists
playlist_track
media_types
genres
invoices
invoice_items
customers
employees
Run the following cell to import the necessary packages.

import sqlite3
import pandas as pd
conn = sqlite3.connect('chinook.db') 
query = conn.cursor()
Q1: Basic Select Queries
Write an SQL query to select and print the first five rows from the tables artists and albums, using:

Pandas: using the read_sql_query
SQL: directly query the database and iterate over the results.
Note, in an SQL query you can add the phrase "limit k" to the end of the query to return the first k rows of the results.

# Table: artists
# Approach: pandas
​
###
### YOUR CODE HERE
### 
result = pd.read_sql_query('''select * from artists limit 5''', conn) 
result
​
ArtistId	Name
0	1	AC/DC
1	2	Accept
2	3	Aerosmith
3	4	Alanis Morissette
4	5	Alice In Chains
# Table: artists
# Approach: sql
​
###
### YOUR CODE HERE
### 
for row in query.execute("SELECT * FROM artists LIMIT 5"): 
    print(row)
​
(1, 'AC/DC')
(2, 'Accept')
(3, 'Aerosmith')
(4, 'Alanis Morissette')
(5, 'Alice In Chains')
# Table: albums
# Approach: pandas
​
###
### YOUR CODE HERE
### 
result1 = pd.read_sql_query('''select * from albums limit 5''', conn) 
result1
​
AlbumId	Title	ArtistId
0	1	For Those About To Rock We Salute You	1
1	2	Balls to the Wall	2
2	3	Restless and Wild	2
3	4	Let There Be Rock	1
4	5	Big Ones	3
# Table: albums
# Approach: sql
​
###
### YOUR CODE HERE
###
​
for row in query.execute("SELECT * FROM albums LIMIT 5"): 
    print(row)
(1, 'For Those About To Rock We Salute You', 1)
(2, 'Balls to the Wall', 2)
(3, 'Restless and Wild', 2)
(4, 'Let There Be Rock', 1)
(5, 'Big Ones', 3)
Q2: Insert and update
Insert the following record in the table artists: (276, null)

Make sure you use the commit() function to store the record in the db. Check to see if the entry is actually entered into the table by selecting the row corresponding to ArtistId=276.

###
### YOUR CODE HERE
### 
query.execute("INSERT INTO artists VALUES (276, null)") 
conn.commit()
​
for row in query.execute("SELECT * FROM artists WHERE(ArtistId = 276)"): 
    print(row)
​
(276, None)
Update the name of the artist to be 'Purdue Singer' for ArtistId = 276. Make sure you use the commit() function to store the record in the db. Check to see if the table is updated by selecting the row corresponding to ArtistId = 276.

###
### YOUR CODE HERE
###
query.execute("UPDATE artists SET ArtistID = 276, Name = 'Purdue Singer' WHERE(ArtistId = 276);") 
conn.commit() 
​
for row in query.execute("SELECT * FROM artists WHERE(ArtistID = 276)"): 
    print(row)
(276, 'Purdue Singer')
# You can use the following command to undo the changes made by this question, if necessary:
# cursor.execute("DELETE FROM artists WHERE ArtistID = 276")
# conn.commit()
Q3: Creating tables
Read the data from the csv file 'iris.csv' into a dataframe using pandas.

Add this dataframe to a new table 'iris' in the chinook.db.

Now print the names of the tables in chinook.db, to check if the iris table is created. You can do this by querying the table "sqlite_master" for rows where "type='table'".

In addition, print the first 10 rows from the new table iris.

###
### YOUR CODE HERE
###  
​
data = pd.read_csv('iris.csv') 
#data  
data.to_sql('iris', conn)
​
​
for row in query.execute("SELECT * FROM iris LIMIT(10)"): 
    print(row)
(0, 5.1, 3.5, 1.4, 0.2, 'setosa')
(1, 4.9, 3.0, 1.4, 0.2, 'setosa')
(2, 4.7, 3.2, 1.3, 0.2, 'setosa')
(3, 4.6, 3.1, 1.5, 0.2, 'setosa')
(4, 5.0, 3.6, 1.4, 0.2, 'setosa')
(5, 5.4, 3.9, 1.7, 0.4, 'setosa')
(6, 4.6, 3.4, 1.4, 0.3, 'setosa')
(7, 5.0, 3.4, 1.5, 0.2, 'setosa')
(8, 4.4, 2.9, 1.4, 0.2, 'setosa')
(9, 4.9, 3.1, 1.5, 0.1, 'setosa')
# You can revert the changes made in this question by running the following commands:
# cursor.execute("DROP TABLE IF EXISTS iris")
# conn.commit()
Q4: Select with Where Clause
Select all the rows that have a sepal length greater than 7 (table=iris, column to match=sepal_length). Print all of these rows.

###
### YOUR CODE HERE
### 
#query.execute(".headers ON")
for row in query.execute("SELECT * FROM iris WHERE(sepal_length > 7)"): 
    print(row)
​
(102, 7.1, 3.0, 5.9, 2.1, 'virginica')
(105, 7.6, 3.0, 6.6, 2.1, 'virginica')
(107, 7.3, 2.9, 6.3, 1.8, 'virginica')
(109, 7.2, 3.6, 6.1, 2.5, 'virginica')
(117, 7.7, 3.8, 6.7, 2.2, 'virginica')
(118, 7.7, 2.6, 6.9, 2.3, 'virginica')
(122, 7.7, 2.8, 6.7, 2.0, 'virginica')
(125, 7.2, 3.2, 6.0, 1.8, 'virginica')
(129, 7.2, 3.0, 5.8, 1.6, 'virginica')
(130, 7.4, 2.8, 6.1, 1.9, 'virginica')
(131, 7.9, 3.8, 6.4, 2.0, 'virginica')
(135, 7.7, 3.0, 6.1, 2.3, 'virginica')
conn.close()

